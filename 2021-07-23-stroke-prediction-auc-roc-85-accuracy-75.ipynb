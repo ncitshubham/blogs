{
 "cells": [
  {
   "cell_type": "markdown",
   "id": "4eab6405",
   "metadata": {
    "papermill": {
     "duration": 0.053455,
     "end_time": "2022-03-20T05:05:38.173969",
     "exception": false,
     "start_time": "2022-03-20T05:05:38.120514",
     "status": "completed"
    },
    "tags": []
   },
   "source": [
    "# EDA of Stroke Dataset and Prediction of Strokes using Selected ML Algorithms\n",
    "\n",
    "- toc: true\n",
    "- badges: true"
   ]
  },
  {
   "cell_type": "markdown",
   "id": "a1e16620",
   "metadata": {
    "papermill": {
     "duration": 0.052283,
     "end_time": "2022-03-20T05:05:38.280847",
     "exception": false,
     "start_time": "2022-03-20T05:05:38.228564",
     "status": "completed"
    },
    "tags": []
   },
   "source": [
    "## Introduction\n",
    "\n",
    "According to the World Health Organization (WHO) stroke is the 2nd leading cause of death globally, responsible for approximately 11% of total deaths.\n",
    "\n",
    "In this project, we'll try to predict whether a patient is likely to get stroke based on the input parameters like gender, age, various diseases, and smoking status. To do this, we'll use the [Stroke Prediction Dataset](https://www.kaggle.com/fedesoriano/stroke-prediction-dataset) provided by [fedesoriano](https://www.kaggle.com/fedesoriano) on Kaggle.\n",
    "\n",
    "Each row in the dataset provides relavant information about the patient like age, smoking status, gender, heart disease, bmi, work type and in the end whether the patient suffered a stroke. This last parameter will be our target, which we'll try to predict using information from the other columns. \n",
    "\n",
    "The steps that we'll take:\n",
    "- Setup and import the dataset\n",
    "- Perform basic EDA and prepare the dataset for training\n",
    "- Train and evaluate a baseline model\n",
    "- Train multiple ML models and make predictions.\n",
    "- Evaluate and compare their performance."
   ]
  },
  {
   "cell_type": "markdown",
   "id": "06cf345a",
   "metadata": {
    "execution": {
     "iopub.execute_input": "2022-03-12T02:15:43.699274Z",
     "iopub.status.busy": "2022-03-12T02:15:43.698913Z",
     "iopub.status.idle": "2022-03-12T02:15:43.721364Z",
     "shell.execute_reply": "2022-03-12T02:15:43.720486Z",
     "shell.execute_reply.started": "2022-03-12T02:15:43.699186Z"
    },
    "papermill": {
     "duration": 0.051537,
     "end_time": "2022-03-20T05:05:38.384438",
     "exception": false,
     "start_time": "2022-03-20T05:05:38.332901",
     "status": "completed"
    },
    "tags": []
   },
   "source": [
    "## Setup"
   ]
  },
  {
   "cell_type": "code",
   "execution_count": 1,
   "id": "d021f2f1",
   "metadata": {
    "_cell_guid": "b1076dfc-b9ad-4769-8c92-a6c4dae69d19",
    "_uuid": "8f2839f25d086af736a60e9eeb907d3b93b6e0e5",
    "execution": {
     "iopub.execute_input": "2022-03-20T05:05:38.505122Z",
     "iopub.status.busy": "2022-03-20T05:05:38.503384Z",
     "iopub.status.idle": "2022-03-20T05:05:40.231346Z",
     "shell.execute_reply": "2022-03-20T05:05:40.229512Z",
     "shell.execute_reply.started": "2022-03-16T07:07:28.235704Z"
    },
    "papermill": {
     "duration": 1.794916,
     "end_time": "2022-03-20T05:05:40.231582",
     "exception": false,
     "start_time": "2022-03-20T05:05:38.436666",
     "status": "completed"
    },
    "tags": []
   },
   "outputs": [
    {
     "name": "stdout",
     "output_type": "stream",
     "text": [
      "/kaggle/input/stroke-prediction-dataset/healthcare-dataset-stroke-data.csv\n"
     ]
    }
   ],
   "source": [
    "import numpy as np # Linear algebra\n",
    "import pandas as pd # Data processing, CSV file I/O (e.g. pd.read_csv)\n",
    "import matplotlib.pyplot as plt # Data Visualizatin\n",
    "import seaborn as sns # Data Visualization\n",
    "from imblearn.over_sampling import SMOTE # Oversampling imbalanced classes\n",
    "from sklearn.impute import SimpleImputer, MissingIndicator # Handle missing values\n",
    "from sklearn.model_selection import train_test_split, cross_val_predict, cross_validate, GridSearchCV, StratifiedKFold \n",
    "from sklearn.metrics import accuracy_score, f1_score, precision_score, recall_score, roc_auc_score, RocCurveDisplay, PrecisionRecallDisplay, confusion_matrix, ConfusionMatrixDisplay # Metrics\n",
    "from sklearn.preprocessing import MinMaxScaler, OneHotEncoder, FunctionTransformer\n",
    "from imblearn.pipeline import make_pipeline\n",
    "from sklearn.compose import make_column_transformer\n",
    "\n",
    "# Models for prediciton\n",
    "from sklearn.dummy import DummyClassifier\n",
    "from sklearn.linear_model import LogisticRegression, RidgeClassifier\n",
    "from sklearn.svm import SVC\n",
    "from sklearn.naive_bayes import GaussianNB\n",
    "from sklearn.neighbors import KNeighborsClassifier\n",
    "from sklearn.ensemble import RandomForestClassifier\n",
    "from xgboost import XGBClassifier\n",
    "\n",
    "# ignore warnings\n",
    "import warnings\n",
    "warnings.filterwarnings(\"ignore\")\n",
    "\n",
    "# get the file path\n",
    "import os\n",
    "for dirname, _, filenames in os.walk('/kaggle/input'):\n",
    "    for filename in filenames:\n",
    "        print(os.path.join(dirname, filename))"
   ]
  },
  {
   "cell_type": "code",
   "execution_count": 2,
   "id": "55dfcac2",
   "metadata": {
    "execution": {
     "iopub.execute_input": "2022-03-20T05:05:40.343109Z",
     "iopub.status.busy": "2022-03-20T05:05:40.342389Z",
     "iopub.status.idle": "2022-03-20T05:05:40.343911Z",
     "shell.execute_reply": "2022-03-20T05:05:40.344507Z",
     "shell.execute_reply.started": "2022-03-16T07:07:30.063795Z"
    },
    "papermill": {
     "duration": 0.058979,
     "end_time": "2022-03-20T05:05:40.344673",
     "exception": false,
     "start_time": "2022-03-20T05:05:40.285694",
     "status": "completed"
    },
    "tags": []
   },
   "outputs": [],
   "source": [
    "file_path = \"/kaggle/input/stroke-prediction-dataset/healthcare-dataset-stroke-data.csv\""
   ]
  },
  {
   "cell_type": "code",
   "execution_count": 3,
   "id": "d9cf91e9",
   "metadata": {
    "execution": {
     "iopub.execute_input": "2022-03-20T05:05:40.454012Z",
     "iopub.status.busy": "2022-03-20T05:05:40.453247Z",
     "iopub.status.idle": "2022-03-20T05:05:41.233037Z",
     "shell.execute_reply": "2022-03-20T05:05:41.233974Z",
     "shell.execute_reply.started": "2022-03-16T07:07:30.070597Z"
    },
    "papermill": {
     "duration": 0.836994,
     "end_time": "2022-03-20T05:05:41.234183",
     "exception": false,
     "start_time": "2022-03-20T05:05:40.397189",
     "status": "completed"
    },
    "tags": []
   },
   "outputs": [
    {
     "name": "stdout",
     "output_type": "stream",
     "text": [
      "-rw-r--r-- 1 nobody nogroup 310K Oct 14 16:31 /kaggle/input/stroke-prediction-dataset/healthcare-dataset-stroke-data.csv\r\n"
     ]
    }
   ],
   "source": [
    "# file size of the dataset\n",
    "!ls -lh {file_path}"
   ]
  },
  {
   "cell_type": "code",
   "execution_count": 4,
   "id": "8ed0a292",
   "metadata": {
    "execution": {
     "iopub.execute_input": "2022-03-20T05:05:41.351955Z",
     "iopub.status.busy": "2022-03-20T05:05:41.351009Z",
     "iopub.status.idle": "2022-03-20T05:05:42.112510Z",
     "shell.execute_reply": "2022-03-20T05:05:42.111954Z",
     "shell.execute_reply.started": "2022-03-16T07:07:30.843513Z"
    },
    "papermill": {
     "duration": 0.820549,
     "end_time": "2022-03-20T05:05:42.112669",
     "exception": false,
     "start_time": "2022-03-20T05:05:41.292120",
     "status": "completed"
    },
    "tags": []
   },
   "outputs": [
    {
     "name": "stdout",
     "output_type": "stream",
     "text": [
      "id,gender,age,hypertension,heart_disease,ever_married,work_type,Residence_type,avg_glucose_level,bmi,smoking_status,stroke\r\n",
      "9046,Male,67,0,1,Yes,Private,Urban,228.69,36.6,formerly smoked,1\r\n",
      "51676,Female,61,0,0,Yes,Self-employed,Rural,202.21,N/A,never smoked,1\r\n",
      "31112,Male,80,0,1,Yes,Private,Rural,105.92,32.5,never smoked,1\r\n",
      "60182,Female,49,0,0,Yes,Private,Urban,171.23,34.4,smokes,1\r\n",
      "1665,Female,79,1,0,Yes,Self-employed,Rural,174.12,24,never smoked,1\r\n",
      "56669,Male,81,0,0,Yes,Private,Urban,186.21,29,formerly smoked,1\r\n",
      "53882,Male,74,1,1,Yes,Private,Rural,70.09,27.4,never smoked,1\r\n",
      "10434,Female,69,0,0,No,Private,Urban,94.39,22.8,never smoked,1\r\n",
      "27419,Female,59,0,0,Yes,Private,Rural,76.15,N/A,Unknown,1\r\n"
     ]
    }
   ],
   "source": [
    "# look at the first few rows of the dataseet\n",
    "!head {file_path}"
   ]
  },
  {
   "cell_type": "markdown",
   "id": "ce061a26",
   "metadata": {
    "papermill": {
     "duration": 0.052955,
     "end_time": "2022-03-20T05:05:42.218907",
     "exception": false,
     "start_time": "2022-03-20T05:05:42.165952",
     "status": "completed"
    },
    "tags": []
   },
   "source": [
    "**Observations**\n",
    "\n",
    "* File size is 310 KB, thus it is safe to import the whole dataset.\n",
    "* The delimiters are `,`\n",
    "* `id` is the index column\n",
    "* `stroke` is the prediction class in the last column"
   ]
  },
  {
   "cell_type": "code",
   "execution_count": 5,
   "id": "432cb8d4",
   "metadata": {
    "execution": {
     "iopub.execute_input": "2022-03-20T05:05:42.332634Z",
     "iopub.status.busy": "2022-03-20T05:05:42.331478Z",
     "iopub.status.idle": "2022-03-20T05:05:42.392325Z",
     "shell.execute_reply": "2022-03-20T05:05:42.391385Z",
     "shell.execute_reply.started": "2022-03-16T07:07:31.625895Z"
    },
    "papermill": {
     "duration": 0.119971,
     "end_time": "2022-03-20T05:05:42.392477",
     "exception": false,
     "start_time": "2022-03-20T05:05:42.272506",
     "status": "completed"
    },
    "tags": []
   },
   "outputs": [
    {
     "data": {
      "text/html": [
       "<div>\n",
       "<style scoped>\n",
       "    .dataframe tbody tr th:only-of-type {\n",
       "        vertical-align: middle;\n",
       "    }\n",
       "\n",
       "    .dataframe tbody tr th {\n",
       "        vertical-align: top;\n",
       "    }\n",
       "\n",
       "    .dataframe thead th {\n",
       "        text-align: right;\n",
       "    }\n",
       "</style>\n",
       "<table border=\"1\" class=\"dataframe\">\n",
       "  <thead>\n",
       "    <tr style=\"text-align: right;\">\n",
       "      <th></th>\n",
       "      <th>gender</th>\n",
       "      <th>age</th>\n",
       "      <th>hypertension</th>\n",
       "      <th>heart_disease</th>\n",
       "      <th>ever_married</th>\n",
       "      <th>work_type</th>\n",
       "      <th>Residence_type</th>\n",
       "      <th>avg_glucose_level</th>\n",
       "      <th>bmi</th>\n",
       "      <th>smoking_status</th>\n",
       "      <th>stroke</th>\n",
       "    </tr>\n",
       "    <tr>\n",
       "      <th>id</th>\n",
       "      <th></th>\n",
       "      <th></th>\n",
       "      <th></th>\n",
       "      <th></th>\n",
       "      <th></th>\n",
       "      <th></th>\n",
       "      <th></th>\n",
       "      <th></th>\n",
       "      <th></th>\n",
       "      <th></th>\n",
       "      <th></th>\n",
       "    </tr>\n",
       "  </thead>\n",
       "  <tbody>\n",
       "    <tr>\n",
       "      <th>9046</th>\n",
       "      <td>Male</td>\n",
       "      <td>67.0</td>\n",
       "      <td>0</td>\n",
       "      <td>1</td>\n",
       "      <td>Yes</td>\n",
       "      <td>Private</td>\n",
       "      <td>Urban</td>\n",
       "      <td>228.69</td>\n",
       "      <td>36.6</td>\n",
       "      <td>formerly smoked</td>\n",
       "      <td>1</td>\n",
       "    </tr>\n",
       "    <tr>\n",
       "      <th>51676</th>\n",
       "      <td>Female</td>\n",
       "      <td>61.0</td>\n",
       "      <td>0</td>\n",
       "      <td>0</td>\n",
       "      <td>Yes</td>\n",
       "      <td>Self-employed</td>\n",
       "      <td>Rural</td>\n",
       "      <td>202.21</td>\n",
       "      <td>NaN</td>\n",
       "      <td>never smoked</td>\n",
       "      <td>1</td>\n",
       "    </tr>\n",
       "    <tr>\n",
       "      <th>31112</th>\n",
       "      <td>Male</td>\n",
       "      <td>80.0</td>\n",
       "      <td>0</td>\n",
       "      <td>1</td>\n",
       "      <td>Yes</td>\n",
       "      <td>Private</td>\n",
       "      <td>Rural</td>\n",
       "      <td>105.92</td>\n",
       "      <td>32.5</td>\n",
       "      <td>never smoked</td>\n",
       "      <td>1</td>\n",
       "    </tr>\n",
       "    <tr>\n",
       "      <th>60182</th>\n",
       "      <td>Female</td>\n",
       "      <td>49.0</td>\n",
       "      <td>0</td>\n",
       "      <td>0</td>\n",
       "      <td>Yes</td>\n",
       "      <td>Private</td>\n",
       "      <td>Urban</td>\n",
       "      <td>171.23</td>\n",
       "      <td>34.4</td>\n",
       "      <td>smokes</td>\n",
       "      <td>1</td>\n",
       "    </tr>\n",
       "    <tr>\n",
       "      <th>1665</th>\n",
       "      <td>Female</td>\n",
       "      <td>79.0</td>\n",
       "      <td>1</td>\n",
       "      <td>0</td>\n",
       "      <td>Yes</td>\n",
       "      <td>Self-employed</td>\n",
       "      <td>Rural</td>\n",
       "      <td>174.12</td>\n",
       "      <td>24.0</td>\n",
       "      <td>never smoked</td>\n",
       "      <td>1</td>\n",
       "    </tr>\n",
       "  </tbody>\n",
       "</table>\n",
       "</div>"
      ],
      "text/plain": [
       "       gender   age  hypertension  heart_disease ever_married      work_type  \\\n",
       "id                                                                             \n",
       "9046     Male  67.0             0              1          Yes        Private   \n",
       "51676  Female  61.0             0              0          Yes  Self-employed   \n",
       "31112    Male  80.0             0              1          Yes        Private   \n",
       "60182  Female  49.0             0              0          Yes        Private   \n",
       "1665   Female  79.0             1              0          Yes  Self-employed   \n",
       "\n",
       "      Residence_type  avg_glucose_level   bmi   smoking_status  stroke  \n",
       "id                                                                      \n",
       "9046           Urban             228.69  36.6  formerly smoked       1  \n",
       "51676          Rural             202.21   NaN     never smoked       1  \n",
       "31112          Rural             105.92  32.5     never smoked       1  \n",
       "60182          Urban             171.23  34.4           smokes       1  \n",
       "1665           Rural             174.12  24.0     never smoked       1  "
      ]
     },
     "execution_count": 5,
     "metadata": {},
     "output_type": "execute_result"
    }
   ],
   "source": [
    "# Load the dataset into pandas DataFrame\n",
    "df = pd.read_csv(file_path, index_col = [\"id\"])\n",
    "df.head()"
   ]
  },
  {
   "cell_type": "markdown",
   "id": "eced905f",
   "metadata": {
    "execution": {
     "iopub.execute_input": "2022-03-12T03:05:50.210124Z",
     "iopub.status.busy": "2022-03-12T03:05:50.209851Z",
     "iopub.status.idle": "2022-03-12T03:05:50.214502Z",
     "shell.execute_reply": "2022-03-12T03:05:50.213376Z",
     "shell.execute_reply.started": "2022-03-12T03:05:50.210095Z"
    },
    "papermill": {
     "duration": 0.054797,
     "end_time": "2022-03-20T05:05:42.501119",
     "exception": false,
     "start_time": "2022-03-20T05:05:42.446322",
     "status": "completed"
    },
    "tags": []
   },
   "source": [
    "## Basic EDA and Data Preparation\n",
    "\n",
    "First, it is really important to separate the test data from the train data at this point, so that the transformers and models cannot learn from the test data itself. Before making a split, it is worth looking at the distribution of prediction class, to see if there is an imbalance and whether we will need to stratify the split."
   ]
  },
  {
   "cell_type": "code",
   "execution_count": 6,
   "id": "3555c3ca",
   "metadata": {
    "execution": {
     "iopub.execute_input": "2022-03-20T05:05:42.620149Z",
     "iopub.status.busy": "2022-03-20T05:05:42.619107Z",
     "iopub.status.idle": "2022-03-20T05:05:42.809673Z",
     "shell.execute_reply": "2022-03-20T05:05:42.810197Z",
     "shell.execute_reply.started": "2022-03-16T07:07:31.685899Z"
    },
    "papermill": {
     "duration": 0.252624,
     "end_time": "2022-03-20T05:05:42.810385",
     "exception": false,
     "start_time": "2022-03-20T05:05:42.557761",
     "status": "completed"
    },
    "tags": []
   },
   "outputs": [
    {
     "name": "stdout",
     "output_type": "stream",
     "text": [
      "Value Count in the prediction class - Stroke:\n",
      "0    4861\n",
      "1     249\n",
      "Name: stroke, dtype: int64\n",
      "\n",
      "\n"
     ]
    },
    {
     "data": {
      "image/png": "[encoded data removed]",
      "text/plain": [
       "<Figure size 432x288 with 1 Axes>"
      ]
     },
     "metadata": {
      "needs_background": "light"
     },
     "output_type": "display_data"
    }
   ],
   "source": [
    "# Distribution of prediction class\n",
    "stroke_val_count = df.stroke.value_counts()\n",
    "print(f\"Value Count in the prediction class - Stroke:\\n{stroke_val_count}\\n\\n\")\n",
    "\n",
    "sns.barplot(x = stroke_val_count.index, y = stroke_val_count)\n",
    "plt.show()"
   ]
  },
  {
   "cell_type": "markdown",
   "id": "b4b08d58",
   "metadata": {
    "papermill": {
     "duration": 0.055204,
     "end_time": "2022-03-20T05:05:42.921629",
     "exception": false,
     "start_time": "2022-03-20T05:05:42.866425",
     "status": "completed"
    },
    "tags": []
   },
   "source": [
    "As we can see, the prediction class is highly imbalanced. Therefore, we'll need to stratify the split. Also, after making the split, it would be worth to generate artificial data in the training dataset to help the ML models distinguish better between the two categories of prediction class. "
   ]
  },
  {
   "cell_type": "code",
   "execution_count": 7,
   "id": "a7a8d1a2",
   "metadata": {
    "execution": {
     "iopub.execute_input": "2022-03-20T05:05:43.040023Z",
     "iopub.status.busy": "2022-03-20T05:05:43.038295Z",
     "iopub.status.idle": "2022-03-20T05:05:43.048741Z",
     "shell.execute_reply": "2022-03-20T05:05:43.049361Z",
     "shell.execute_reply.started": "2022-03-16T07:07:31.880707Z"
    },
    "papermill": {
     "duration": 0.072435,
     "end_time": "2022-03-20T05:05:43.049539",
     "exception": false,
     "start_time": "2022-03-20T05:05:42.977104",
     "status": "completed"
    },
    "tags": []
   },
   "outputs": [],
   "source": [
    "# Separate the prediction class from the training features\n",
    "X = df.copy()\n",
    "y = X.pop(\"stroke\")\n",
    "\n",
    "# split the dataset\n",
    "X_train, X_test, y_train, y_test = train_test_split(X, y, test_size = 0.2, stratify = y, random_state = 42)"
   ]
  },
  {
   "cell_type": "markdown",
   "id": "df02a19d",
   "metadata": {
    "papermill": {
     "duration": 0.05485,
     "end_time": "2022-03-20T05:05:43.159456",
     "exception": false,
     "start_time": "2022-03-20T05:05:43.104606",
     "status": "completed"
    },
    "tags": []
   },
   "source": [
    "We'll perform EDA on the dataset and use the observations that we make for building a data preparation pipeline as the last step.\n",
    "\n",
    "#### Basic Inspection"
   ]
  },
  {
   "cell_type": "code",
   "execution_count": 8,
   "id": "720a2c70",
   "metadata": {
    "execution": {
     "iopub.execute_input": "2022-03-20T05:05:43.275643Z",
     "iopub.status.busy": "2022-03-20T05:05:43.274671Z",
     "iopub.status.idle": "2022-03-20T05:05:43.291099Z",
     "shell.execute_reply": "2022-03-20T05:05:43.290443Z",
     "shell.execute_reply.started": "2022-03-16T07:07:31.897342Z"
    },
    "papermill": {
     "duration": 0.076221,
     "end_time": "2022-03-20T05:05:43.291244",
     "exception": false,
     "start_time": "2022-03-20T05:05:43.215023",
     "status": "completed"
    },
    "tags": []
   },
   "outputs": [
    {
     "data": {
      "text/html": [
       "<div>\n",
       "<style scoped>\n",
       "    .dataframe tbody tr th:only-of-type {\n",
       "        vertical-align: middle;\n",
       "    }\n",
       "\n",
       "    .dataframe tbody tr th {\n",
       "        vertical-align: top;\n",
       "    }\n",
       "\n",
       "    .dataframe thead th {\n",
       "        text-align: right;\n",
       "    }\n",
       "</style>\n",
       "<table border=\"1\" class=\"dataframe\">\n",
       "  <thead>\n",
       "    <tr style=\"text-align: right;\">\n",
       "      <th></th>\n",
       "      <th>gender</th>\n",
       "      <th>age</th>\n",
       "      <th>hypertension</th>\n",
       "      <th>heart_disease</th>\n",
       "      <th>ever_married</th>\n",
       "      <th>work_type</th>\n",
       "      <th>Residence_type</th>\n",
       "      <th>avg_glucose_level</th>\n",
       "      <th>bmi</th>\n",
       "      <th>smoking_status</th>\n",
       "    </tr>\n",
       "    <tr>\n",
       "      <th>id</th>\n",
       "      <th></th>\n",
       "      <th></th>\n",
       "      <th></th>\n",
       "      <th></th>\n",
       "      <th></th>\n",
       "      <th></th>\n",
       "      <th></th>\n",
       "      <th></th>\n",
       "      <th></th>\n",
       "      <th></th>\n",
       "    </tr>\n",
       "  </thead>\n",
       "  <tbody>\n",
       "    <tr>\n",
       "      <th>25283</th>\n",
       "      <td>Female</td>\n",
       "      <td>48.0</td>\n",
       "      <td>0</td>\n",
       "      <td>0</td>\n",
       "      <td>Yes</td>\n",
       "      <td>Private</td>\n",
       "      <td>Urban</td>\n",
       "      <td>69.21</td>\n",
       "      <td>33.1</td>\n",
       "      <td>never smoked</td>\n",
       "    </tr>\n",
       "    <tr>\n",
       "      <th>43734</th>\n",
       "      <td>Male</td>\n",
       "      <td>15.0</td>\n",
       "      <td>0</td>\n",
       "      <td>0</td>\n",
       "      <td>No</td>\n",
       "      <td>Private</td>\n",
       "      <td>Rural</td>\n",
       "      <td>122.25</td>\n",
       "      <td>21.0</td>\n",
       "      <td>never smoked</td>\n",
       "    </tr>\n",
       "    <tr>\n",
       "      <th>47113</th>\n",
       "      <td>Female</td>\n",
       "      <td>67.0</td>\n",
       "      <td>0</td>\n",
       "      <td>0</td>\n",
       "      <td>Yes</td>\n",
       "      <td>Self-employed</td>\n",
       "      <td>Rural</td>\n",
       "      <td>110.42</td>\n",
       "      <td>24.9</td>\n",
       "      <td>never smoked</td>\n",
       "    </tr>\n",
       "    <tr>\n",
       "      <th>56996</th>\n",
       "      <td>Male</td>\n",
       "      <td>44.0</td>\n",
       "      <td>0</td>\n",
       "      <td>0</td>\n",
       "      <td>Yes</td>\n",
       "      <td>Private</td>\n",
       "      <td>Urban</td>\n",
       "      <td>65.41</td>\n",
       "      <td>24.8</td>\n",
       "      <td>smokes</td>\n",
       "    </tr>\n",
       "    <tr>\n",
       "      <th>26325</th>\n",
       "      <td>Male</td>\n",
       "      <td>14.0</td>\n",
       "      <td>0</td>\n",
       "      <td>0</td>\n",
       "      <td>No</td>\n",
       "      <td>Govt_job</td>\n",
       "      <td>Urban</td>\n",
       "      <td>82.34</td>\n",
       "      <td>31.6</td>\n",
       "      <td>Unknown</td>\n",
       "    </tr>\n",
       "  </tbody>\n",
       "</table>\n",
       "</div>"
      ],
      "text/plain": [
       "       gender   age  hypertension  heart_disease ever_married      work_type  \\\n",
       "id                                                                             \n",
       "25283  Female  48.0             0              0          Yes        Private   \n",
       "43734    Male  15.0             0              0           No        Private   \n",
       "47113  Female  67.0             0              0          Yes  Self-employed   \n",
       "56996    Male  44.0             0              0          Yes        Private   \n",
       "26325    Male  14.0             0              0           No       Govt_job   \n",
       "\n",
       "      Residence_type  avg_glucose_level   bmi smoking_status  \n",
       "id                                                            \n",
       "25283          Urban              69.21  33.1   never smoked  \n",
       "43734          Rural             122.25  21.0   never smoked  \n",
       "47113          Rural             110.42  24.9   never smoked  \n",
       "56996          Urban              65.41  24.8         smokes  \n",
       "26325          Urban              82.34  31.6        Unknown  "
      ]
     },
     "execution_count": 8,
     "metadata": {},
     "output_type": "execute_result"
    }
   ],
   "source": [
    "# Look at the dataset\n",
    "X_train.head()"
   ]
  },
  {
   "cell_type": "code",
   "execution_count": 9,
   "id": "694aadf0",
   "metadata": {
    "execution": {
     "iopub.execute_input": "2022-03-20T05:05:43.406414Z",
     "iopub.status.busy": "2022-03-20T05:05:43.405393Z",
     "iopub.status.idle": "2022-03-20T05:05:43.424178Z",
     "shell.execute_reply": "2022-03-20T05:05:43.424686Z",
     "shell.execute_reply.started": "2022-03-16T07:07:31.9165Z"
    },
    "papermill": {
     "duration": 0.078023,
     "end_time": "2022-03-20T05:05:43.424854",
     "exception": false,
     "start_time": "2022-03-20T05:05:43.346831",
     "status": "completed"
    },
    "tags": []
   },
   "outputs": [
    {
     "name": "stdout",
     "output_type": "stream",
     "text": [
      "<class 'pandas.core.frame.DataFrame'>\n",
      "Int64Index: 4088 entries, 25283 to 31836\n",
      "Data columns (total 10 columns):\n",
      " #   Column             Non-Null Count  Dtype  \n",
      "---  ------             --------------  -----  \n",
      " 0   gender             4088 non-null   object \n",
      " 1   age                4088 non-null   float64\n",
      " 2   hypertension       4088 non-null   int64  \n",
      " 3   heart_disease      4088 non-null   int64  \n",
      " 4   ever_married       4088 non-null   object \n",
      " 5   work_type          4088 non-null   object \n",
      " 6   Residence_type     4088 non-null   object \n",
      " 7   avg_glucose_level  4088 non-null   float64\n",
      " 8   bmi                3918 non-null   float64\n",
      " 9   smoking_status     4088 non-null   object \n",
      "dtypes: float64(3), int64(2), object(5)\n",
      "memory usage: 351.3+ KB\n"
     ]
    }
   ],
   "source": [
    "X_train.info()"
   ]
  },
  {
   "cell_type": "markdown",
   "id": "f860e2d3",
   "metadata": {
    "papermill": {
     "duration": 0.055794,
     "end_time": "2022-03-20T05:05:43.536632",
     "exception": false,
     "start_time": "2022-03-20T05:05:43.480838",
     "status": "completed"
    },
    "tags": []
   },
   "source": [
    "**Observations**\n",
    "\n",
    "- There are 4088 entries in the train dataset.\n",
    "- There are total 10 features which we can use to predict the occurance of stroke.\n",
    "- There are some categorical features like `gender`, `work_type`, `Residence_type` of dtype `object`, which we'll need to be One Hot Encoded.\n",
    "- Numerical features will need to be scaled.\n",
    "- There are some missing values in the bmi column."
   ]
  },
  {
   "cell_type": "markdown",
   "id": "59ec0681",
   "metadata": {
    "papermill": {
     "duration": 0.056151,
     "end_time": "2022-03-20T05:05:43.648464",
     "exception": false,
     "start_time": "2022-03-20T05:05:43.592313",
     "status": "completed"
    },
    "tags": []
   },
   "source": [
    "#### Null values"
   ]
  },
  {
   "cell_type": "code",
   "execution_count": 10,
   "id": "2dddc35b",
   "metadata": {
    "execution": {
     "iopub.execute_input": "2022-03-20T05:05:43.765166Z",
     "iopub.status.busy": "2022-03-20T05:05:43.764555Z",
     "iopub.status.idle": "2022-03-20T05:05:43.773954Z",
     "shell.execute_reply": "2022-03-20T05:05:43.774511Z",
     "shell.execute_reply.started": "2022-03-16T07:07:31.939543Z"
    },
    "papermill": {
     "duration": 0.069175,
     "end_time": "2022-03-20T05:05:43.774704",
     "exception": false,
     "start_time": "2022-03-20T05:05:43.705529",
     "status": "completed"
    },
    "tags": []
   },
   "outputs": [
    {
     "data": {
      "text/plain": [
       "gender                 0\n",
       "age                    0\n",
       "hypertension           0\n",
       "heart_disease          0\n",
       "ever_married           0\n",
       "work_type              0\n",
       "Residence_type         0\n",
       "avg_glucose_level      0\n",
       "bmi                  170\n",
       "smoking_status         0\n",
       "dtype: int64"
      ]
     },
     "execution_count": 10,
     "metadata": {},
     "output_type": "execute_result"
    }
   ],
   "source": [
    "# Null values\n",
    "X_train.isnull().sum()"
   ]
  },
  {
   "cell_type": "code",
   "execution_count": 11,
   "id": "22395f48",
   "metadata": {
    "execution": {
     "iopub.execute_input": "2022-03-20T05:05:43.890949Z",
     "iopub.status.busy": "2022-03-20T05:05:43.890224Z",
     "iopub.status.idle": "2022-03-20T05:05:44.161294Z",
     "shell.execute_reply": "2022-03-20T05:05:44.160671Z",
     "shell.execute_reply.started": "2022-03-16T07:07:31.952692Z"
    },
    "papermill": {
     "duration": 0.330269,
     "end_time": "2022-03-20T05:05:44.161438",
     "exception": false,
     "start_time": "2022-03-20T05:05:43.831169",
     "status": "completed"
    },
    "tags": []
   },
   "outputs": [
    {
     "data": {
      "text/plain": [
       "<AxesSubplot:ylabel='id'>"
      ]
     },
     "execution_count": 11,
     "metadata": {},
     "output_type": "execute_result"
    },
    {
     "data": {
      "image/png": "[encoded data removed]",
      "text/plain": [
       "<Figure size 720x576 with 1 Axes>"
      ]
     },
     "metadata": {
      "needs_background": "light"
     },
     "output_type": "display_data"
    }
   ],
   "source": [
    "# Distribution of null values in the dataset\n",
    "plt.figure(figsize = (10, 8))\n",
    "sns.heatmap(X_train.isnull(), cmap = \"rocket\", yticklabels = \"\", cbar = None)"
   ]
  },
  {
   "cell_type": "code",
   "execution_count": 12,
   "id": "f59c5746",
   "metadata": {
    "execution": {
     "iopub.execute_input": "2022-03-20T05:05:44.284396Z",
     "iopub.status.busy": "2022-03-20T05:05:44.283289Z",
     "iopub.status.idle": "2022-03-20T05:05:44.289544Z",
     "shell.execute_reply": "2022-03-20T05:05:44.290137Z",
     "shell.execute_reply.started": "2022-03-16T07:07:32.226636Z"
    },
    "papermill": {
     "duration": 0.070848,
     "end_time": "2022-03-20T05:05:44.290318",
     "exception": false,
     "start_time": "2022-03-20T05:05:44.219470",
     "status": "completed"
    },
    "tags": []
   },
   "outputs": [
    {
     "name": "stdout",
     "output_type": "stream",
     "text": [
      "Non null bmi values:-\n",
      "\n",
      "Stroke-no stroke ratio: 0.21764705882352942\n",
      "\n",
      "\n",
      "Null bmi values:-\n",
      "\n",
      "Stroke-no stroke ratio: 0.04134762633996937\n",
      "\n"
     ]
    }
   ],
   "source": [
    "null_bmi = y_train.loc[X_train.bmi.isna()]\n",
    "not_null_bmi = y_train.loc[X_train.bmi.notnull()]\n",
    "\n",
    "print(f\"\"\"Non null bmi values:-\n",
    "\n",
    "Stroke-no stroke ratio: {null_bmi.sum()/len(null_bmi)}\n",
    "\n",
    "\n",
    "Null bmi values:-\n",
    "\n",
    "Stroke-no stroke ratio: {not_null_bmi.sum()/len(not_null_bmi)}\n",
    "\"\"\")"
   ]
  },
  {
   "cell_type": "markdown",
   "id": "519522d7",
   "metadata": {
    "papermill": {
     "duration": 0.057692,
     "end_time": "2022-03-20T05:05:44.406259",
     "exception": false,
     "start_time": "2022-03-20T05:05:44.348567",
     "status": "completed"
    },
    "tags": []
   },
   "source": [
    "**Observations**\n",
    "\n",
    "Although Null values look to be evenly distributed in the heatmap, the ratio for occurance of stroke is significatly different in the entries with null bmi values. Thus, instead of dropping the null values, it would be better to impute the null values with median bmi value, and also encode the presence of null values in a separate column. This may help in better prediction of stroke."
   ]
  },
  {
   "cell_type": "markdown",
   "id": "a6871ce2",
   "metadata": {
    "papermill": {
     "duration": 0.058456,
     "end_time": "2022-03-20T05:05:44.523204",
     "exception": false,
     "start_time": "2022-03-20T05:05:44.464748",
     "status": "completed"
    },
    "tags": []
   },
   "source": [
    "#### Categorical columns\n",
    "\n",
    "First it is worth inspecting the categories and their distributions in all categorical columns."
   ]
  },
  {
   "cell_type": "code",
   "execution_count": 13,
   "id": "2c82ad1a",
   "metadata": {
    "execution": {
     "iopub.execute_input": "2022-03-20T05:05:44.650647Z",
     "iopub.status.busy": "2022-03-20T05:05:44.649591Z",
     "iopub.status.idle": "2022-03-20T05:05:45.889057Z",
     "shell.execute_reply": "2022-03-20T05:05:45.889571Z",
     "shell.execute_reply.started": "2022-03-16T07:07:32.23539Z"
    },
    "papermill": {
     "duration": 1.307486,
     "end_time": "2022-03-20T05:05:45.889838",
     "exception": false,
     "start_time": "2022-03-20T05:05:44.582352",
     "status": "completed"
    },
    "tags": []
   },
   "outputs": [
    {
     "name": "stdout",
     "output_type": "stream",
     "text": [
      "Value Counts of all categorical columns...\n",
      "\n",
      "Values:-\n",
      "Female    2395\n",
      "Male      1692\n",
      "Other        1\n",
      "Name: gender, dtype: int64\n",
      "\n",
      "\n",
      "Values:-\n",
      "0    3691\n",
      "1     397\n",
      "Name: hypertension, dtype: int64\n",
      "\n",
      "\n",
      "Values:-\n",
      "0    3867\n",
      "1     221\n",
      "Name: heart_disease, dtype: int64\n",
      "\n",
      "\n",
      "Values:-\n",
      "Yes    2700\n",
      "No     1388\n",
      "Name: ever_married, dtype: int64\n",
      "\n",
      "\n",
      "Values:-\n",
      "Private          2332\n",
      "Self-employed     667\n",
      "children          554\n",
      "Govt_job          522\n",
      "Never_worked       13\n",
      "Name: work_type, dtype: int64\n",
      "\n",
      "\n",
      "Values:-\n",
      "Urban    2069\n",
      "Rural    2019\n",
      "Name: Residence_type, dtype: int64\n",
      "\n",
      "\n",
      "Values:-\n",
      "never smoked       1501\n",
      "Unknown            1247\n",
      "formerly smoked     714\n",
      "smokes              626\n",
      "Name: smoking_status, dtype: int64\n",
      "\n",
      "\n"
     ]
    },
    {
     "data": {
      "image/png": "[encoded data removed]",
      "text/plain": [
       "<Figure size 432x288 with 1 Axes>"
      ]
     },
     "metadata": {
      "needs_background": "light"
     },
     "output_type": "display_data"
    },
    {
     "data": {
      "image/png": "[encoded data removed]",
      "text/plain": [
       "<Figure size 432x288 with 1 Axes>"
      ]
     },
     "metadata": {
      "needs_background": "light"
     },
     "output_type": "display_data"
    },
    {
     "data": {
      "image/png": "[encoded data removed]",
      "text/plain": [
       "<Figure size 432x288 with 1 Axes>"
      ]
     },
     "metadata": {
      "needs_background": "light"
     },
     "output_type": "display_data"
    },
    {
     "data": {
      "image/png": "[encoded data removed]",
      "text/plain": [
       "<Figure size 432x288 with 1 Axes>"
      ]
     },
     "metadata": {
      "needs_background": "light"
     },
     "output_type": "display_data"
    },
    {
     "data": {
      "image/png": "[encoded data removed]",
      "text/plain": [
       "<Figure size 432x288 with 1 Axes>"
      ]
     },
     "metadata": {
      "needs_background": "light"
     },
     "output_type": "display_data"
    },
    {
     "data": {
      "image/png": "[encoded data removed]",
      "text/plain": [
       "<Figure size 432x288 with 1 Axes>"
      ]
     },
     "metadata": {
      "needs_background": "light"
     },
     "output_type": "display_data"
    },
    {
     "data": {
      "image/png": "[encoded data removed]",
      "text/plain": [
       "<Figure size 432x288 with 1 Axes>"
      ]
     },
     "metadata": {
      "needs_background": "light"
     },
     "output_type": "display_data"
    }
   ],
   "source": [
    "# Distribution of Categorical Features\n",
    "cat_cols = ['gender', 'hypertension', 'heart_disease', 'ever_married', 'work_type', 'Residence_type', 'smoking_status']\n",
    "\n",
    "print(\"Value Counts of all categorical columns...\\n\")\n",
    "\n",
    "for i, col in enumerate(cat_cols):\n",
    "    val_count = X_train[col].value_counts()\n",
    "    print(f\"Values:-\\n{val_count}\\n\\n\")\n",
    "    plt.figure(i)\n",
    "    sns.barplot(x = val_count.index, y = val_count)"
   ]
  },
  {
   "cell_type": "markdown",
   "id": "c06b1ddf",
   "metadata": {
    "papermill": {
     "duration": 0.064405,
     "end_time": "2022-03-20T05:05:46.019996",
     "exception": false,
     "start_time": "2022-03-20T05:05:45.955591",
     "status": "completed"
    },
    "tags": []
   },
   "source": [
    "**Observation**\n",
    "\n",
    "The categories in all the categorical features look ok, albeit most of the categories are unevenly distributed. Thus, we'll just one hot encode these columns."
   ]
  },
  {
   "cell_type": "markdown",
   "id": "05f1cae5",
   "metadata": {
    "papermill": {
     "duration": 0.063596,
     "end_time": "2022-03-20T05:05:46.147391",
     "exception": false,
     "start_time": "2022-03-20T05:05:46.083795",
     "status": "completed"
    },
    "tags": []
   },
   "source": [
    "#### Numerical Columns"
   ]
  },
  {
   "cell_type": "code",
   "execution_count": 14,
   "id": "7c79283a",
   "metadata": {
    "execution": {
     "iopub.execute_input": "2022-03-20T05:05:46.284678Z",
     "iopub.status.busy": "2022-03-20T05:05:46.283563Z",
     "iopub.status.idle": "2022-03-20T05:05:46.300280Z",
     "shell.execute_reply": "2022-03-20T05:05:46.299681Z",
     "shell.execute_reply.started": "2022-03-16T07:07:33.534028Z"
    },
    "papermill": {
     "duration": 0.089083,
     "end_time": "2022-03-20T05:05:46.300439",
     "exception": false,
     "start_time": "2022-03-20T05:05:46.211356",
     "status": "completed"
    },
    "tags": []
   },
   "outputs": [
    {
     "data": {
      "text/html": [
       "<div>\n",
       "<style scoped>\n",
       "    .dataframe tbody tr th:only-of-type {\n",
       "        vertical-align: middle;\n",
       "    }\n",
       "\n",
       "    .dataframe tbody tr th {\n",
       "        vertical-align: top;\n",
       "    }\n",
       "\n",
       "    .dataframe thead th {\n",
       "        text-align: right;\n",
       "    }\n",
       "</style>\n",
       "<table border=\"1\" class=\"dataframe\">\n",
       "  <thead>\n",
       "    <tr style=\"text-align: right;\">\n",
       "      <th></th>\n",
       "      <th>age</th>\n",
       "      <th>avg_glucose_level</th>\n",
       "      <th>bmi</th>\n",
       "    </tr>\n",
       "  </thead>\n",
       "  <tbody>\n",
       "    <tr>\n",
       "      <th>count</th>\n",
       "      <td>4088.000000</td>\n",
       "      <td>4088.000000</td>\n",
       "      <td>3918.000000</td>\n",
       "    </tr>\n",
       "    <tr>\n",
       "      <th>mean</th>\n",
       "      <td>43.353288</td>\n",
       "      <td>106.317167</td>\n",
       "      <td>28.922180</td>\n",
       "    </tr>\n",
       "    <tr>\n",
       "      <th>std</th>\n",
       "      <td>22.596816</td>\n",
       "      <td>45.259652</td>\n",
       "      <td>7.928378</td>\n",
       "    </tr>\n",
       "    <tr>\n",
       "      <th>min</th>\n",
       "      <td>0.080000</td>\n",
       "      <td>55.120000</td>\n",
       "      <td>10.300000</td>\n",
       "    </tr>\n",
       "    <tr>\n",
       "      <th>25%</th>\n",
       "      <td>26.000000</td>\n",
       "      <td>77.312500</td>\n",
       "      <td>23.600000</td>\n",
       "    </tr>\n",
       "    <tr>\n",
       "      <th>50%</th>\n",
       "      <td>45.000000</td>\n",
       "      <td>91.945000</td>\n",
       "      <td>28.000000</td>\n",
       "    </tr>\n",
       "    <tr>\n",
       "      <th>75%</th>\n",
       "      <td>61.000000</td>\n",
       "      <td>114.197500</td>\n",
       "      <td>33.100000</td>\n",
       "    </tr>\n",
       "    <tr>\n",
       "      <th>max</th>\n",
       "      <td>82.000000</td>\n",
       "      <td>271.740000</td>\n",
       "      <td>97.600000</td>\n",
       "    </tr>\n",
       "  </tbody>\n",
       "</table>\n",
       "</div>"
      ],
      "text/plain": [
       "               age  avg_glucose_level          bmi\n",
       "count  4088.000000        4088.000000  3918.000000\n",
       "mean     43.353288         106.317167    28.922180\n",
       "std      22.596816          45.259652     7.928378\n",
       "min       0.080000          55.120000    10.300000\n",
       "25%      26.000000          77.312500    23.600000\n",
       "50%      45.000000          91.945000    28.000000\n",
       "75%      61.000000         114.197500    33.100000\n",
       "max      82.000000         271.740000    97.600000"
      ]
     },
     "execution_count": 14,
     "metadata": {},
     "output_type": "execute_result"
    }
   ],
   "source": [
    "# Look at the basic statistics\n",
    "\n",
    "num_cols = [\"age\", \"avg_glucose_level\", \"bmi\"]\n",
    "\n",
    "X_train[num_cols].describe()"
   ]
  },
  {
   "cell_type": "markdown",
   "id": "0c1c4cdd",
   "metadata": {
    "papermill": {
     "duration": 0.064627,
     "end_time": "2022-03-20T05:05:46.433430",
     "exception": false,
     "start_time": "2022-03-20T05:05:46.368803",
     "status": "completed"
    },
    "tags": []
   },
   "source": [
    "**Observations**\n",
    "\n",
    "- `Age` appears to be slightly negatively skewed\n",
    "- `avg_glucose_level` appears to be positively skewed\n",
    "- min age of 0.08 suggests that age is stored in fractions, which needs further inspection."
   ]
  },
  {
   "cell_type": "code",
   "execution_count": 15,
   "id": "e44a9922",
   "metadata": {
    "execution": {
     "iopub.execute_input": "2022-03-20T05:05:46.570784Z",
     "iopub.status.busy": "2022-03-20T05:05:46.570123Z",
     "iopub.status.idle": "2022-03-20T05:05:47.124076Z",
     "shell.execute_reply": "2022-03-20T05:05:47.124577Z",
     "shell.execute_reply.started": "2022-03-16T07:07:33.559533Z"
    },
    "papermill": {
     "duration": 0.626172,
     "end_time": "2022-03-20T05:05:47.124750",
     "exception": false,
     "start_time": "2022-03-20T05:05:46.498578",
     "status": "completed"
    },
    "tags": []
   },
   "outputs": [
    {
     "data": {
      "image/png": "[encoded data removed]",
      "text/plain": [
       "<Figure size 432x288 with 1 Axes>"
      ]
     },
     "metadata": {
      "needs_background": "light"
     },
     "output_type": "display_data"
    },
    {
     "data": {
      "image/png": "[encoded data removed]",
      "text/plain": [
       "<Figure size 432x288 with 1 Axes>"
      ]
     },
     "metadata": {
      "needs_background": "light"
     },
     "output_type": "display_data"
    },
    {
     "data": {
      "image/png": "[encoded data removed]",
      "text/plain": [
       "<Figure size 432x288 with 1 Axes>"
      ]
     },
     "metadata": {
      "needs_background": "light"
     },
     "output_type": "display_data"
    }
   ],
   "source": [
    "# Distribution of Numerical (Continuous) Features\n",
    "\n",
    "for i, col in enumerate(num_cols):\n",
    "    plt.figure(i)\n",
    "    sns.violinplot(x = X_train[col])\n",
    "    plt.legend([f\"skewness: {X_train[col].skew():.2f}\\nkurtosis: {X_train[col].kurtosis():.2f}\"])"
   ]
  },
  {
   "cell_type": "markdown",
   "id": "909e1efb",
   "metadata": {
    "papermill": {
     "duration": 0.068244,
     "end_time": "2022-03-20T05:05:47.261518",
     "exception": false,
     "start_time": "2022-03-20T05:05:47.193274",
     "status": "completed"
    },
    "tags": []
   },
   "source": [
    "**Observations**\n",
    "\n",
    "- `age` is very slightly negatively skewed with negative kurtosis.\n",
    "- `avg_glucose_level` and `bmi` are positively skewed with sharp peaks(positive kurtosis)\n",
    "\n",
    "Although some ML models assume normal distribution of data, they can work fine with data with small skewness and kurtosis values. Therefore, we'll just scale this data using MinMaxScaler."
   ]
  },
  {
   "cell_type": "code",
   "execution_count": 16,
   "id": "6da12f79",
   "metadata": {
    "execution": {
     "iopub.execute_input": "2022-03-20T05:05:47.405218Z",
     "iopub.status.busy": "2022-03-20T05:05:47.404544Z",
     "iopub.status.idle": "2022-03-20T05:05:47.407852Z",
     "shell.execute_reply": "2022-03-20T05:05:47.408565Z",
     "shell.execute_reply.started": "2022-03-16T07:07:34.131223Z"
    },
    "papermill": {
     "duration": 0.078362,
     "end_time": "2022-03-20T05:05:47.408785",
     "exception": false,
     "start_time": "2022-03-20T05:05:47.330423",
     "status": "completed"
    },
    "tags": []
   },
   "outputs": [
    {
     "name": "stdout",
     "output_type": "stream",
     "text": [
      "[0.08, 0.24, 0.32, 0.4, 0.48, 0.56, 0.64, 0.72, 0.8, 0.88, 1.0, 1.08, 1.16, 1.24, 1.32, 1.4, 1.48, 1.56, 1.64, 1.72, 1.8, 1.88, 2.0, 3.0, 4.0, 5.0, 6.0, 7.0, 8.0, 9.0, 10.0, 11.0, 12.0, 13.0, 14.0, 15.0, 16.0, 17.0, 18.0, 19.0, 20.0, 21.0, 22.0, 23.0, 24.0, 25.0, 26.0, 27.0, 28.0, 29.0, 30.0, 31.0, 32.0, 33.0, 34.0, 35.0, 36.0, 37.0, 38.0, 39.0, 40.0, 41.0, 42.0, 43.0, 44.0, 45.0, 46.0, 47.0, 48.0, 49.0, 50.0, 51.0, 52.0, 53.0, 54.0, 55.0, 56.0, 57.0, 58.0, 59.0, 60.0, 61.0, 62.0, 63.0, 64.0, 65.0, 66.0, 67.0, 68.0, 69.0, 70.0, 71.0, 72.0, 73.0, 74.0, 75.0, 76.0, 77.0, 78.0, 79.0, 80.0, 81.0, 82.0]\n"
     ]
    }
   ],
   "source": [
    "# inspect`age` column\n",
    "print(sorted(X_train.age.unique()))"
   ]
  },
  {
   "cell_type": "markdown",
   "id": "9b52bb60",
   "metadata": {
    "papermill": {
     "duration": 0.068496,
     "end_time": "2022-03-20T05:05:47.547766",
     "exception": false,
     "start_time": "2022-03-20T05:05:47.479270",
     "status": "completed"
    },
    "tags": []
   },
   "source": [
    "**Observations**\n",
    "\n",
    "Only values smaller than 2 are stored as floats. Thus, we can change the whole column to int datatype to make this feature uniform."
   ]
  },
  {
   "cell_type": "markdown",
   "id": "7a8f23b0",
   "metadata": {
    "papermill": {
     "duration": 0.068386,
     "end_time": "2022-03-20T05:05:47.686082",
     "exception": false,
     "start_time": "2022-03-20T05:05:47.617696",
     "status": "completed"
    },
    "tags": []
   },
   "source": [
    "#### Build Column Transformer\n",
    "\n",
    "Now, we can use combine all the observations that we made to build a data preparation pipeline with a column transformer. We'll use the transformer to:\n",
    "- impute missing values\n",
    "- change `age` column dtype to `int`\n",
    "- add missing value indicator\n",
    "- onehotencode categorical columns\n",
    "- scale numerical features"
   ]
  },
  {
   "cell_type": "code",
   "execution_count": 17,
   "id": "820a1b25",
   "metadata": {
    "execution": {
     "iopub.execute_input": "2022-03-20T05:05:47.831553Z",
     "iopub.status.busy": "2022-03-20T05:05:47.830872Z",
     "iopub.status.idle": "2022-03-20T05:05:47.833850Z",
     "shell.execute_reply": "2022-03-20T05:05:47.833371Z",
     "shell.execute_reply.started": "2022-03-16T07:18:56.34644Z"
    },
    "papermill": {
     "duration": 0.079554,
     "end_time": "2022-03-20T05:05:47.834004",
     "exception": false,
     "start_time": "2022-03-20T05:05:47.754450",
     "status": "completed"
    },
    "tags": []
   },
   "outputs": [],
   "source": [
    "# Columns\n",
    "age_col = [\"age\"]\n",
    "num_cols_without_age = [\"avg_glucose_level\", \"bmi\"]\n",
    "cat_cols = [\"gender\", \"ever_married\", \"work_type\", \"Residence_type\", \"smoking_status\"]\n",
    "\n",
    "# Scale the data\n",
    "scaler = MinMaxScaler()\n",
    "\n",
    "# handle missing values in `bmi`\n",
    "imputer = SimpleImputer(strategy = \"median\")\n",
    "\n",
    "# change dtype of `age`\n",
    "def to_int(x):\n",
    "    return pd.DataFrame(x).astype(int)\n",
    "\n",
    "int_tr = FunctionTransformer(to_int)"
   ]
  },
  {
   "cell_type": "code",
   "execution_count": 18,
   "id": "4d8ac5c3",
   "metadata": {
    "execution": {
     "iopub.execute_input": "2022-03-20T05:05:47.975126Z",
     "iopub.status.busy": "2022-03-20T05:05:47.974357Z",
     "iopub.status.idle": "2022-03-20T05:05:47.981554Z",
     "shell.execute_reply": "2022-03-20T05:05:47.980993Z",
     "shell.execute_reply.started": "2022-03-16T07:22:24.079309Z"
    },
    "papermill": {
     "duration": 0.079437,
     "end_time": "2022-03-20T05:05:47.981697",
     "exception": false,
     "start_time": "2022-03-20T05:05:47.902260",
     "status": "completed"
    },
    "tags": []
   },
   "outputs": [],
   "source": [
    "# build transformer for `age` separately\n",
    "age_transformer = make_pipeline(int_tr, scaler)\n",
    "\n",
    "# build transformer for numeric cols without age\n",
    "num_transformer = make_pipeline(imputer, scaler)\n",
    "\n",
    "# missing_indicator\n",
    "miss_ind = MissingIndicator()\n",
    "\n",
    "# build transformer for categorical cols\n",
    "cat_transformer = OneHotEncoder(drop = \"first\", handle_unknown = \"ignore\", sparse = False)\n",
    "\n",
    "# combine transformers to make a single column transformer\n",
    "ct = make_column_transformer((age_transformer, age_col), (num_transformer, num_cols_without_age), (miss_ind, num_cols_without_age), (cat_transformer, cat_cols), remainder = \"passthrough\")"
   ]
  },
  {
   "cell_type": "code",
   "execution_count": 19,
   "id": "53926d02",
   "metadata": {
    "execution": {
     "iopub.execute_input": "2022-03-20T05:05:48.125991Z",
     "iopub.status.busy": "2022-03-20T05:05:48.125332Z",
     "iopub.status.idle": "2022-03-20T05:05:48.160180Z",
     "shell.execute_reply": "2022-03-20T05:05:48.159635Z",
     "shell.execute_reply.started": "2022-03-16T07:22:25.285075Z"
    },
    "papermill": {
     "duration": 0.107228,
     "end_time": "2022-03-20T05:05:48.160317",
     "exception": false,
     "start_time": "2022-03-20T05:05:48.053089",
     "status": "completed"
    },
    "tags": []
   },
   "outputs": [
    {
     "data": {
      "text/plain": [
       "(4088, 17)"
      ]
     },
     "execution_count": 19,
     "metadata": {},
     "output_type": "execute_result"
    }
   ],
   "source": [
    "ct.fit_transform(X_train).shape"
   ]
  },
  {
   "cell_type": "markdown",
   "id": "c72d7cda",
   "metadata": {
    "papermill": {
     "duration": 0.068071,
     "end_time": "2022-03-20T05:05:48.297445",
     "exception": false,
     "start_time": "2022-03-20T05:05:48.229374",
     "status": "completed"
    },
    "tags": []
   },
   "source": [
    "#### SMOTE\n",
    "\n",
    "We'll use imblearn's SMOTE over-sampling to balance the data. We'll implement this within the final pipeline with the training model."
   ]
  },
  {
   "cell_type": "code",
   "execution_count": 20,
   "id": "7852c18f",
   "metadata": {
    "execution": {
     "iopub.execute_input": "2022-03-20T05:05:48.437460Z",
     "iopub.status.busy": "2022-03-20T05:05:48.436778Z",
     "iopub.status.idle": "2022-03-20T05:05:48.443157Z",
     "shell.execute_reply": "2022-03-20T05:05:48.443718Z",
     "shell.execute_reply.started": "2022-03-16T07:22:46.001578Z"
    },
    "papermill": {
     "duration": 0.078268,
     "end_time": "2022-03-20T05:05:48.443907",
     "exception": false,
     "start_time": "2022-03-20T05:05:48.365639",
     "status": "completed"
    },
    "tags": []
   },
   "outputs": [
    {
     "data": {
      "text/plain": [
       "SMOTE(random_state=42)"
      ]
     },
     "execution_count": 20,
     "metadata": {},
     "output_type": "execute_result"
    }
   ],
   "source": [
    "sm = SMOTE(random_state = 42)\n",
    "sm"
   ]
  },
  {
   "cell_type": "markdown",
   "id": "35c8d16f",
   "metadata": {
    "papermill": {
     "duration": 0.068444,
     "end_time": "2022-03-20T05:05:48.580951",
     "exception": false,
     "start_time": "2022-03-20T05:05:48.512507",
     "status": "completed"
    },
    "tags": []
   },
   "source": [
    "## Train and Evaluate a Baseline Model"
   ]
  },
  {
   "cell_type": "markdown",
   "id": "1a5ba56d",
   "metadata": {
    "papermill": {
     "duration": 0.068382,
     "end_time": "2022-03-20T05:05:48.718201",
     "exception": false,
     "start_time": "2022-03-20T05:05:48.649819",
     "status": "completed"
    },
    "tags": []
   },
   "source": [
    "A baseline model which doesn't use any of the features to make predictions will give a baseline score, that the future ML models should at least beat. This score will help to identify errors in model training and evaluation if the models perform worse than the baseline score. "
   ]
  },
  {
   "cell_type": "code",
   "execution_count": 21,
   "id": "ccc1f873",
   "metadata": {
    "execution": {
     "iopub.execute_input": "2022-03-20T05:05:48.881775Z",
     "iopub.status.busy": "2022-03-20T05:05:48.880764Z",
     "iopub.status.idle": "2022-03-20T05:05:48.890653Z",
     "shell.execute_reply": "2022-03-20T05:05:48.891248Z",
     "shell.execute_reply.started": "2022-03-16T07:22:47.178019Z"
    },
    "papermill": {
     "duration": 0.101361,
     "end_time": "2022-03-20T05:05:48.891433",
     "exception": false,
     "start_time": "2022-03-20T05:05:48.790072",
     "status": "completed"
    },
    "tags": []
   },
   "outputs": [],
   "source": [
    "# Build imblearn pipeline with the DummyClassifier\n",
    "base_model = DummyClassifier(strategy = 'prior')\n",
    "\n",
    "base_pipe = make_pipeline(ct, sm, base_model)\n",
    "\n",
    "# specify KFold strategy\n",
    "cv = StratifiedKFold(n_splits = 5, shuffle = True, random_state = 42)"
   ]
  },
  {
   "cell_type": "markdown",
   "id": "717eb094",
   "metadata": {
    "papermill": {
     "duration": 0.070034,
     "end_time": "2022-03-20T05:05:49.031371",
     "exception": false,
     "start_time": "2022-03-20T05:05:48.961337",
     "status": "completed"
    },
    "tags": []
   },
   "source": [
    "#### Baseline scores"
   ]
  },
  {
   "cell_type": "code",
   "execution_count": 22,
   "id": "37b89b75",
   "metadata": {
    "execution": {
     "iopub.execute_input": "2022-03-20T05:05:49.173383Z",
     "iopub.status.busy": "2022-03-20T05:05:49.172714Z",
     "iopub.status.idle": "2022-03-20T05:05:51.027777Z",
     "shell.execute_reply": "2022-03-20T05:05:51.028751Z",
     "shell.execute_reply.started": "2022-03-16T07:22:50.080691Z"
    },
    "papermill": {
     "duration": 1.928398,
     "end_time": "2022-03-20T05:05:51.029181",
     "exception": false,
     "start_time": "2022-03-20T05:05:49.100783",
     "status": "completed"
    },
    "tags": []
   },
   "outputs": [
    {
     "data": {
      "text/plain": [
       "{'fit_time': array([0.0513134 , 0.0490582 , 0.05048561, 0.04655719, 0.0471642 ]),\n",
       " 'score_time': array([0.04595423, 0.04224229, 0.04374504, 0.02858949, 0.04048371]),\n",
       " 'test_accuracy': array([0.95110024, 0.95110024, 0.95110024, 0.95226438, 0.95104039]),\n",
       " 'test_recall': array([0., 0., 0., 0., 0.]),\n",
       " 'test_roc_auc': array([0.5, 0.5, 0.5, 0.5, 0.5]),\n",
       " 'test_f1': array([0., 0., 0., 0., 0.])}"
      ]
     },
     "execution_count": 22,
     "metadata": {},
     "output_type": "execute_result"
    }
   ],
   "source": [
    "# Scores on multiple metrics from the DummyClassifier\n",
    "cross_validate(base_pipe, X_train, y_train, cv = cv, n_jobs = -1, scoring = [\"accuracy\", \"recall\", \"roc_auc\", \"f1\"])"
   ]
  },
  {
   "cell_type": "markdown",
   "id": "9423fe58",
   "metadata": {
    "papermill": {
     "duration": 0.068712,
     "end_time": "2022-03-20T05:05:51.171226",
     "exception": false,
     "start_time": "2022-03-20T05:05:51.102514",
     "status": "completed"
    },
    "tags": []
   },
   "source": [
    "The model accuracy comes out to be really great at about 0.95. Although, it would generally be a good score to achieve. in this domain, a good accuracy score can be decieving. We can actually confirm this by looking at the test recall scores. All the test recall scores are 0, which means that the model failed to catch even a single True Positive. This is what we almost never want in the medical sphere. If the testing isn't prohibitively expensive or risky for the patient, which in this case it isn't, the test should aim for a high recall score and not a high accuracy score. That is why we'll judge our models using the roc_auc score primarily, which shows the relation between the True Positive Rate(TPR/recall) and False Positive Rate(FPR) of the model. For this baseline model, the roc_auc score comes out to be 0.5, which means the model isn't able to distinguish between the prediction classes at any of the thresholds, which we would expect from a dummy model.\n",
    "We can also look at the roc_auc_curve of the model."
   ]
  },
  {
   "cell_type": "code",
   "execution_count": 23,
   "id": "b15f8a66",
   "metadata": {
    "execution": {
     "iopub.execute_input": "2022-03-20T05:05:51.313350Z",
     "iopub.status.busy": "2022-03-20T05:05:51.312627Z",
     "iopub.status.idle": "2022-03-20T05:05:51.669731Z",
     "shell.execute_reply": "2022-03-20T05:05:51.670568Z",
     "shell.execute_reply.started": "2022-03-16T07:23:18.400449Z"
    },
    "papermill": {
     "duration": 0.430244,
     "end_time": "2022-03-20T05:05:51.670739",
     "exception": false,
     "start_time": "2022-03-20T05:05:51.240495",
     "status": "completed"
    },
    "tags": []
   },
   "outputs": [
    {
     "data": {
      "text/plain": [
       "<sklearn.metrics._plot.roc_curve.RocCurveDisplay at 0x7fc4d14678d0>"
      ]
     },
     "execution_count": 23,
     "metadata": {},
     "output_type": "execute_result"
    },
    {
     "data": {
      "image/png": "[encoded data removed]",
      "text/plain": [
       "<Figure size 432x288 with 1 Axes>"
      ]
     },
     "metadata": {
      "needs_background": "light"
     },
     "output_type": "display_data"
    }
   ],
   "source": [
    "# ROC curve of DummyClassifier\n",
    "\n",
    "base_preds_prob = cross_val_predict(base_pipe, X_train, y_train, cv = cv, n_jobs = -1, method = \"predict_proba\")[:, 1]\n",
    "\n",
    "RocCurveDisplay.from_predictions(y_train, base_preds_prob)"
   ]
  },
  {
   "cell_type": "markdown",
   "id": "97b4fa34",
   "metadata": {
    "papermill": {
     "duration": 0.070816,
     "end_time": "2022-03-20T05:05:51.812996",
     "exception": false,
     "start_time": "2022-03-20T05:05:51.742180",
     "status": "completed"
    },
    "tags": []
   },
   "source": [
    "## Model Selection"
   ]
  },
  {
   "cell_type": "markdown",
   "id": "725b645d",
   "metadata": {
    "papermill": {
     "duration": 0.070879,
     "end_time": "2022-03-20T05:05:51.954656",
     "exception": false,
     "start_time": "2022-03-20T05:05:51.883777",
     "status": "completed"
    },
    "tags": []
   },
   "source": [
    "In this section, we'll train multiple ML models typically used for binary classification and compare their performance using the scores from `cross_validate`"
   ]
  },
  {
   "cell_type": "code",
   "execution_count": 24,
   "id": "5930518b",
   "metadata": {
    "execution": {
     "iopub.execute_input": "2022-03-20T05:05:52.106624Z",
     "iopub.status.busy": "2022-03-20T05:05:52.105973Z",
     "iopub.status.idle": "2022-03-20T05:05:52.108239Z",
     "shell.execute_reply": "2022-03-20T05:05:52.108680Z",
     "shell.execute_reply.started": "2022-03-16T07:23:24.713244Z"
    },
    "papermill": {
     "duration": 0.081011,
     "end_time": "2022-03-20T05:05:52.108851",
     "exception": false,
     "start_time": "2022-03-20T05:05:52.027840",
     "status": "completed"
    },
    "tags": []
   },
   "outputs": [],
   "source": [
    "# Specify ML models\n",
    "\n",
    "models = {\"Logistic_Regression\": LogisticRegression(random_state = 42),\n",
    "        \"Ridge_Classification\": RidgeClassifier(random_state = 42),\n",
    "        \"SVC\": SVC(random_state = 42),\n",
    "        \"GaussianNB\": GaussianNB(),\n",
    "        \"KNClassifier\": KNeighborsClassifier(n_neighbors = 5),\n",
    "        \"RandomForestClassifier\": RandomForestClassifier(max_depth = 10, n_jobs = -1, random_state = 42),\n",
    "        \"XGBClassifier\": XGBClassifier(n_estimators = 50, learning_rate = 0.03, n_jobs = -1, \n",
    "                                       objective = \"binary:logistic\", eval_metric = \"auc\", tree_method = \"hist\", random_state = 42)}"
   ]
  },
  {
   "cell_type": "code",
   "execution_count": 25,
   "id": "705cd158",
   "metadata": {
    "execution": {
     "iopub.execute_input": "2022-03-20T05:05:52.254450Z",
     "iopub.status.busy": "2022-03-20T05:05:52.253582Z",
     "iopub.status.idle": "2022-03-20T05:06:08.720785Z",
     "shell.execute_reply": "2022-03-20T05:06:08.722057Z",
     "shell.execute_reply.started": "2022-03-16T07:23:26.423685Z"
    },
    "papermill": {
     "duration": 16.542234,
     "end_time": "2022-03-20T05:06:08.722295",
     "exception": false,
     "start_time": "2022-03-20T05:05:52.180061",
     "status": "completed"
    },
    "tags": []
   },
   "outputs": [
    {
     "name": "stdout",
     "output_type": "stream",
     "text": [
      "Logistic_Regression :\n",
      "\n",
      "test_accuracy: Mean: 75.42 %   Std: 1.51\n",
      "\n",
      "test_recall: Mean: 78.91 %   Std: 2.90\n",
      "\n",
      "test_precision: Mean: 14.06 %   Std: 0.93\n",
      "\n",
      "test_roc_auc: Mean: 84.92 %   Std: 0.96\n",
      "\n",
      "test_f1: Mean: 23.86 %   Std: 1.40\n",
      "\n",
      "\n",
      " -------------------------------------------------- \n",
      "\n",
      "Ridge_Classification :\n",
      "\n",
      "test_accuracy: Mean: 73.95 %   Std: 1.57\n",
      "\n",
      "test_recall: Mean: 79.41 %   Std: 3.60\n",
      "\n",
      "test_precision: Mean: 13.41 %   Std: 0.94\n",
      "\n",
      "test_roc_auc: Mean: 85.04 %   Std: 1.38\n",
      "\n",
      "test_f1: Mean: 22.93 %   Std: 1.47\n",
      "\n",
      "\n",
      " -------------------------------------------------- \n",
      "\n",
      "SVC :\n",
      "\n",
      "test_accuracy: Mean: 81.97 %   Std: 1.27\n",
      "\n",
      "test_recall: Mean: 45.26 %   Std: 10.97\n",
      "\n",
      "test_precision: Mean: 12.36 %   Std: 1.46\n",
      "\n",
      "test_roc_auc: Mean: 76.44 %   Std: 3.34\n",
      "\n",
      "test_f1: Mean: 19.36 %   Std: 2.79\n",
      "\n",
      "\n",
      " -------------------------------------------------- \n",
      "\n",
      "GaussianNB :\n",
      "\n",
      "test_accuracy: Mean: 25.37 %   Std: 4.74\n",
      "\n",
      "test_recall: Mean: 99.50 %   Std: 1.00\n",
      "\n",
      "test_precision: Mean: 6.12 %   Std: 0.43\n",
      "\n",
      "test_roc_auc: Mean: 82.68 %   Std: 1.54\n",
      "\n",
      "test_f1: Mean: 11.53 %   Std: 0.76\n",
      "\n",
      "\n",
      " -------------------------------------------------- \n",
      "\n",
      "KNClassifier :\n",
      "\n",
      "test_accuracy: Mean: 83.76 %   Std: 1.21\n",
      "\n",
      "test_recall: Mean: 36.19 %   Std: 3.84\n",
      "\n",
      "test_precision: Mean: 11.84 %   Std: 0.47\n",
      "\n",
      "test_roc_auc: Mean: 65.28 %   Std: 0.76\n",
      "\n",
      "test_f1: Mean: 17.80 %   Std: 0.71\n",
      "\n",
      "\n",
      " -------------------------------------------------- \n",
      "\n",
      "RandomForestClassifier :\n",
      "\n",
      "test_accuracy: Mean: 83.41 %   Std: 1.46\n",
      "\n",
      "test_recall: Mean: 40.69 %   Std: 5.24\n",
      "\n",
      "test_precision: Mean: 12.65 %   Std: 0.85\n",
      "\n",
      "test_roc_auc: Mean: 80.27 %   Std: 0.91\n",
      "\n",
      "test_f1: Mean: 19.25 %   Std: 1.29\n",
      "\n",
      "\n",
      " -------------------------------------------------- \n",
      "\n",
      "XGBClassifier :\n",
      "\n",
      "test_accuracy: Mean: 77.28 %   Std: 1.95\n",
      "\n",
      "test_recall: Mean: 63.27 %   Std: 6.57\n",
      "\n",
      "test_precision: Mean: 12.89 %   Std: 1.56\n",
      "\n",
      "test_roc_auc: Mean: 80.95 %   Std: 2.15\n",
      "\n",
      "test_f1: Mean: 21.39 %   Std: 2.45\n",
      "\n",
      "\n",
      " -------------------------------------------------- \n",
      "\n"
     ]
    }
   ],
   "source": [
    "# Model comparison on multiple metrics\n",
    "\n",
    "scores = {}\n",
    "\n",
    "for model_name, model in models.items():\n",
    "\n",
    "    model_pipe = make_pipeline(ct, sm, model)\n",
    "    \n",
    "    cross_val = cross_validate(model_pipe, X_train, y_train, cv = cv, scoring = [\"accuracy\", \"recall\", \"precision\", \"roc_auc\", \"f1\"])\n",
    "    del cross_val[\"fit_time\"]\n",
    "    del cross_val[\"score_time\"]\n",
    "    \n",
    "    print(model_name + \" :\\n\")\n",
    "    \n",
    "    for score_name, score_vals in cross_val.items():\n",
    "        score_mean = score_vals.mean()\n",
    "        score_std = score_vals.std()\n",
    "        cross_val[score_name] = score_mean\n",
    "        \n",
    "        print(f\"{score_name}: Mean: {(score_mean * 100):.2f} %   Std: {(score_std * 100):.2f}\\n\")\n",
    "        \n",
    "    print(\"\\n\", \"-\" * 50, \"\\n\")\n",
    "    \n",
    "    scores[model_name] = cross_val"
   ]
  },
  {
   "cell_type": "code",
   "execution_count": 26,
   "id": "21979afb",
   "metadata": {
    "execution": {
     "iopub.execute_input": "2022-03-20T05:06:08.886151Z",
     "iopub.status.busy": "2022-03-20T05:06:08.885432Z",
     "iopub.status.idle": "2022-03-20T05:06:08.888195Z",
     "shell.execute_reply": "2022-03-20T05:06:08.888695Z",
     "shell.execute_reply.started": "2022-03-16T07:23:42.983793Z"
    },
    "papermill": {
     "duration": 0.091246,
     "end_time": "2022-03-20T05:06:08.888869",
     "exception": false,
     "start_time": "2022-03-20T05:06:08.797623",
     "status": "completed"
    },
    "tags": []
   },
   "outputs": [
    {
     "data": {
      "text/html": [
       "<div>\n",
       "<style scoped>\n",
       "    .dataframe tbody tr th:only-of-type {\n",
       "        vertical-align: middle;\n",
       "    }\n",
       "\n",
       "    .dataframe tbody tr th {\n",
       "        vertical-align: top;\n",
       "    }\n",
       "\n",
       "    .dataframe thead th {\n",
       "        text-align: right;\n",
       "    }\n",
       "</style>\n",
       "<table border=\"1\" class=\"dataframe\">\n",
       "  <thead>\n",
       "    <tr style=\"text-align: right;\">\n",
       "      <th></th>\n",
       "      <th>test_accuracy</th>\n",
       "      <th>test_recall</th>\n",
       "      <th>test_precision</th>\n",
       "      <th>test_roc_auc</th>\n",
       "      <th>test_f1</th>\n",
       "    </tr>\n",
       "  </thead>\n",
       "  <tbody>\n",
       "    <tr>\n",
       "      <th>Ridge_Classification</th>\n",
       "      <td>0.739481</td>\n",
       "      <td>0.794103</td>\n",
       "      <td>0.134058</td>\n",
       "      <td>0.850447</td>\n",
       "      <td>0.229299</td>\n",
       "    </tr>\n",
       "    <tr>\n",
       "      <th>Logistic_Regression</th>\n",
       "      <td>0.754158</td>\n",
       "      <td>0.789103</td>\n",
       "      <td>0.140608</td>\n",
       "      <td>0.849226</td>\n",
       "      <td>0.238578</td>\n",
       "    </tr>\n",
       "    <tr>\n",
       "      <th>GaussianNB</th>\n",
       "      <td>0.253661</td>\n",
       "      <td>0.995000</td>\n",
       "      <td>0.061211</td>\n",
       "      <td>0.826782</td>\n",
       "      <td>0.115301</td>\n",
       "    </tr>\n",
       "    <tr>\n",
       "      <th>XGBClassifier</th>\n",
       "      <td>0.772752</td>\n",
       "      <td>0.632692</td>\n",
       "      <td>0.128876</td>\n",
       "      <td>0.809516</td>\n",
       "      <td>0.213944</td>\n",
       "    </tr>\n",
       "    <tr>\n",
       "      <th>RandomForestClassifier</th>\n",
       "      <td>0.834148</td>\n",
       "      <td>0.406923</td>\n",
       "      <td>0.126488</td>\n",
       "      <td>0.802683</td>\n",
       "      <td>0.192495</td>\n",
       "    </tr>\n",
       "    <tr>\n",
       "      <th>SVC</th>\n",
       "      <td>0.819717</td>\n",
       "      <td>0.452564</td>\n",
       "      <td>0.123650</td>\n",
       "      <td>0.764393</td>\n",
       "      <td>0.193636</td>\n",
       "    </tr>\n",
       "    <tr>\n",
       "      <th>KNClassifier</th>\n",
       "      <td>0.837574</td>\n",
       "      <td>0.361923</td>\n",
       "      <td>0.118366</td>\n",
       "      <td>0.652839</td>\n",
       "      <td>0.177978</td>\n",
       "    </tr>\n",
       "  </tbody>\n",
       "</table>\n",
       "</div>"
      ],
      "text/plain": [
       "                        test_accuracy  test_recall  test_precision  \\\n",
       "Ridge_Classification         0.739481     0.794103        0.134058   \n",
       "Logistic_Regression          0.754158     0.789103        0.140608   \n",
       "GaussianNB                   0.253661     0.995000        0.061211   \n",
       "XGBClassifier                0.772752     0.632692        0.128876   \n",
       "RandomForestClassifier       0.834148     0.406923        0.126488   \n",
       "SVC                          0.819717     0.452564        0.123650   \n",
       "KNClassifier                 0.837574     0.361923        0.118366   \n",
       "\n",
       "                        test_roc_auc   test_f1  \n",
       "Ridge_Classification        0.850447  0.229299  \n",
       "Logistic_Regression         0.849226  0.238578  \n",
       "GaussianNB                  0.826782  0.115301  \n",
       "XGBClassifier               0.809516  0.213944  \n",
       "RandomForestClassifier      0.802683  0.192495  \n",
       "SVC                         0.764393  0.193636  \n",
       "KNClassifier                0.652839  0.177978  "
      ]
     },
     "execution_count": 26,
     "metadata": {},
     "output_type": "execute_result"
    }
   ],
   "source": [
    "scores_df = pd.DataFrame.from_dict(scores, orient = 'index')\n",
    "scores_df.sort_values(by = \"test_roc_auc\", ascending = False)"
   ]
  },
  {
   "cell_type": "markdown",
   "id": "edc60273",
   "metadata": {
    "papermill": {
     "duration": 0.075145,
     "end_time": "2022-03-20T05:06:09.039016",
     "exception": false,
     "start_time": "2022-03-20T05:06:08.963871",
     "status": "completed"
    },
    "tags": []
   },
   "source": [
    "From the scores we get, linear models although lacking in accuracy porformed way much better than the others in recall, auc_roc, and f1 metrics. Their roc_auc score of above 80s but low precision score suggests that they can do well with threshold tuning. The tree models like RandomForestClassifier and XGBClassifier also achieved satisfactory performance with high accuracy and moderate roc_auc scores. KNClassifier and SVC performed the worst and may require some hyperparameter tuning. But time would be better spent tuning the linear models to get even better performance than to tune the other ML models."
   ]
  },
  {
   "cell_type": "markdown",
   "id": "fa42dbba",
   "metadata": {
    "papermill": {
     "duration": 0.073922,
     "end_time": "2022-03-20T05:06:09.188616",
     "exception": false,
     "start_time": "2022-03-20T05:06:09.114694",
     "status": "completed"
    },
    "tags": []
   },
   "source": [
    "## Model Tuning\n",
    "\n",
    "We'll train `LogisticRegression` and `RidgeClassifier` ML models with `GridSearchCV` to find the best model and its parameters. We can then train this model on the full train dataset and then make predictions on the test dataset in the next section. "
   ]
  },
  {
   "cell_type": "code",
   "execution_count": 27,
   "id": "1ee94bb2",
   "metadata": {
    "execution": {
     "iopub.execute_input": "2022-03-20T05:06:09.340639Z",
     "iopub.status.busy": "2022-03-20T05:06:09.339932Z",
     "iopub.status.idle": "2022-03-20T05:06:09.344892Z",
     "shell.execute_reply": "2022-03-20T05:06:09.345429Z",
     "shell.execute_reply.started": "2022-03-16T07:25:57.499732Z"
    },
    "papermill": {
     "duration": 0.082164,
     "end_time": "2022-03-20T05:06:09.345602",
     "exception": false,
     "start_time": "2022-03-20T05:06:09.263438",
     "status": "completed"
    },
    "tags": []
   },
   "outputs": [],
   "source": [
    "# Initialize models and specify param_grid for GridSearchCV\n",
    "models_and_params = {\"LogisticRegression\": [LogisticRegression(random_state = 42), \n",
    "                                            {\"logisticregression__class_weight\": [{0:1, 1: 1}, {0:1, 1:3}]}],\n",
    "                    \"RidgeClassification\": [RidgeClassifier(random_state = 42), \n",
    "                                            {\"ridgeclassifier__alpha\": [1, 2, 3], \"ridgeclassifier__class_weight\": [{0:1, 1: 1}, {0:1, 1:3}]}]}"
   ]
  },
  {
   "cell_type": "code",
   "execution_count": 28,
   "id": "08251390",
   "metadata": {
    "execution": {
     "iopub.execute_input": "2022-03-20T05:06:09.498501Z",
     "iopub.status.busy": "2022-03-20T05:06:09.497804Z",
     "iopub.status.idle": "2022-03-20T05:06:10.981751Z",
     "shell.execute_reply": "2022-03-20T05:06:10.980663Z",
     "shell.execute_reply.started": "2022-03-16T07:47:25.873951Z"
    },
    "papermill": {
     "duration": 1.561354,
     "end_time": "2022-03-20T05:06:10.981953",
     "exception": false,
     "start_time": "2022-03-20T05:06:09.420599",
     "status": "completed"
    },
    "tags": []
   },
   "outputs": [],
   "source": [
    "# Run GridSearchCV and store its results\n",
    "tuning_scores = []\n",
    "for model_name in models_and_params:\n",
    "    model, params = models_and_params[model_name]\n",
    "    \n",
    "    model_pipe = make_pipeline(ct, sm, model)\n",
    "    \n",
    "    grid_cv = GridSearchCV(model_pipe, params, scoring = [\"accuracy\", \"recall\", \"precision\", \"roc_auc\", \"f1\"], n_jobs = -1, cv = cv, refit = False)\n",
    "    \n",
    "    grid_cv.fit(X_train, y_train)\n",
    "    \n",
    "    tuning_scores.append(grid_cv)"
   ]
  },
  {
   "cell_type": "code",
   "execution_count": 29,
   "id": "372f2f12",
   "metadata": {
    "execution": {
     "iopub.execute_input": "2022-03-20T05:06:11.141428Z",
     "iopub.status.busy": "2022-03-20T05:06:11.140683Z",
     "iopub.status.idle": "2022-03-20T05:06:11.154482Z",
     "shell.execute_reply": "2022-03-20T05:06:11.155007Z",
     "shell.execute_reply.started": "2022-03-16T07:52:52.789298Z"
    },
    "papermill": {
     "duration": 0.097447,
     "end_time": "2022-03-20T05:06:11.155181",
     "exception": false,
     "start_time": "2022-03-20T05:06:11.057734",
     "status": "completed"
    },
    "tags": []
   },
   "outputs": [
    {
     "data": {
      "text/html": [
       "<div>\n",
       "<style scoped>\n",
       "    .dataframe tbody tr th:only-of-type {\n",
       "        vertical-align: middle;\n",
       "    }\n",
       "\n",
       "    .dataframe tbody tr th {\n",
       "        vertical-align: top;\n",
       "    }\n",
       "\n",
       "    .dataframe thead th {\n",
       "        text-align: right;\n",
       "    }\n",
       "</style>\n",
       "<table border=\"1\" class=\"dataframe\">\n",
       "  <thead>\n",
       "    <tr style=\"text-align: right;\">\n",
       "      <th></th>\n",
       "      <th>param_logisticregression__class_weight</th>\n",
       "      <th>mean_test_accuracy</th>\n",
       "      <th>mean_test_precision</th>\n",
       "      <th>mean_test_recall</th>\n",
       "      <th>mean_test_roc_auc</th>\n",
       "      <th>mean_test_f1</th>\n",
       "    </tr>\n",
       "  </thead>\n",
       "  <tbody>\n",
       "    <tr>\n",
       "      <th>0</th>\n",
       "      <td>{0: 1, 1: 1}</td>\n",
       "      <td>0.754158</td>\n",
       "      <td>0.140608</td>\n",
       "      <td>0.789103</td>\n",
       "      <td>0.849226</td>\n",
       "      <td>0.238578</td>\n",
       "    </tr>\n",
       "    <tr>\n",
       "      <th>1</th>\n",
       "      <td>{0: 1, 1: 3}</td>\n",
       "      <td>0.610319</td>\n",
       "      <td>0.104987</td>\n",
       "      <td>0.929744</td>\n",
       "      <td>0.847900</td>\n",
       "      <td>0.188645</td>\n",
       "    </tr>\n",
       "  </tbody>\n",
       "</table>\n",
       "</div>"
      ],
      "text/plain": [
       "  param_logisticregression__class_weight  mean_test_accuracy  \\\n",
       "0                           {0: 1, 1: 1}            0.754158   \n",
       "1                           {0: 1, 1: 3}            0.610319   \n",
       "\n",
       "   mean_test_precision  mean_test_recall  mean_test_roc_auc  mean_test_f1  \n",
       "0             0.140608          0.789103           0.849226      0.238578  \n",
       "1             0.104987          0.929744           0.847900      0.188645  "
      ]
     },
     "execution_count": 29,
     "metadata": {},
     "output_type": "execute_result"
    }
   ],
   "source": [
    "# Results for LogisticRegression\n",
    "logistic_regression_grid_result = pd.DataFrame.from_dict(tuning_scores[0].cv_results_)\n",
    "logistic_regression_grid_result = logistic_regression_grid_result[[\n",
    "                                                    \"param_logisticregression__class_weight\", \n",
    "                                                    \"mean_test_accuracy\",\n",
    "                                                    \"mean_test_precision\",\n",
    "                                                    \"mean_test_recall\",\n",
    "                                                    \"mean_test_roc_auc\",\n",
    "                                                    \"mean_test_f1\"]]\n",
    "logistic_regression_grid_result.sort_values(by = \"mean_test_roc_auc\", ascending = False)"
   ]
  },
  {
   "cell_type": "code",
   "execution_count": 30,
   "id": "15d6f5cc",
   "metadata": {
    "execution": {
     "iopub.execute_input": "2022-03-20T05:06:11.308307Z",
     "iopub.status.busy": "2022-03-20T05:06:11.307649Z",
     "iopub.status.idle": "2022-03-20T05:06:11.328722Z",
     "shell.execute_reply": "2022-03-20T05:06:11.328177Z",
     "shell.execute_reply.started": "2022-03-16T07:52:38.442807Z"
    },
    "papermill": {
     "duration": 0.098876,
     "end_time": "2022-03-20T05:06:11.328868",
     "exception": false,
     "start_time": "2022-03-20T05:06:11.229992",
     "status": "completed"
    },
    "tags": []
   },
   "outputs": [
    {
     "data": {
      "text/html": [
       "<div>\n",
       "<style scoped>\n",
       "    .dataframe tbody tr th:only-of-type {\n",
       "        vertical-align: middle;\n",
       "    }\n",
       "\n",
       "    .dataframe tbody tr th {\n",
       "        vertical-align: top;\n",
       "    }\n",
       "\n",
       "    .dataframe thead th {\n",
       "        text-align: right;\n",
       "    }\n",
       "</style>\n",
       "<table border=\"1\" class=\"dataframe\">\n",
       "  <thead>\n",
       "    <tr style=\"text-align: right;\">\n",
       "      <th></th>\n",
       "      <th>param_ridgeclassifier__alpha</th>\n",
       "      <th>param_ridgeclassifier__class_weight</th>\n",
       "      <th>mean_test_accuracy</th>\n",
       "      <th>mean_test_precision</th>\n",
       "      <th>mean_test_recall</th>\n",
       "      <th>mean_test_roc_auc</th>\n",
       "      <th>mean_test_f1</th>\n",
       "    </tr>\n",
       "  </thead>\n",
       "  <tbody>\n",
       "    <tr>\n",
       "      <th>4</th>\n",
       "      <td>3</td>\n",
       "      <td>{0: 1, 1: 1}</td>\n",
       "      <td>0.738258</td>\n",
       "      <td>0.133504</td>\n",
       "      <td>0.794103</td>\n",
       "      <td>0.850666</td>\n",
       "      <td>0.228482</td>\n",
       "    </tr>\n",
       "    <tr>\n",
       "      <th>2</th>\n",
       "      <td>2</td>\n",
       "      <td>{0: 1, 1: 1}</td>\n",
       "      <td>0.739237</td>\n",
       "      <td>0.133963</td>\n",
       "      <td>0.794103</td>\n",
       "      <td>0.850492</td>\n",
       "      <td>0.229157</td>\n",
       "    </tr>\n",
       "    <tr>\n",
       "      <th>0</th>\n",
       "      <td>1</td>\n",
       "      <td>{0: 1, 1: 1}</td>\n",
       "      <td>0.739481</td>\n",
       "      <td>0.134058</td>\n",
       "      <td>0.794103</td>\n",
       "      <td>0.850447</td>\n",
       "      <td>0.229299</td>\n",
       "    </tr>\n",
       "    <tr>\n",
       "      <th>5</th>\n",
       "      <td>3</td>\n",
       "      <td>{0: 1, 1: 3}</td>\n",
       "      <td>0.582188</td>\n",
       "      <td>0.101112</td>\n",
       "      <td>0.959872</td>\n",
       "      <td>0.844802</td>\n",
       "      <td>0.182931</td>\n",
       "    </tr>\n",
       "    <tr>\n",
       "      <th>3</th>\n",
       "      <td>2</td>\n",
       "      <td>{0: 1, 1: 3}</td>\n",
       "      <td>0.582432</td>\n",
       "      <td>0.101167</td>\n",
       "      <td>0.959872</td>\n",
       "      <td>0.844769</td>\n",
       "      <td>0.183022</td>\n",
       "    </tr>\n",
       "    <tr>\n",
       "      <th>1</th>\n",
       "      <td>1</td>\n",
       "      <td>{0: 1, 1: 3}</td>\n",
       "      <td>0.583411</td>\n",
       "      <td>0.100952</td>\n",
       "      <td>0.954872</td>\n",
       "      <td>0.844712</td>\n",
       "      <td>0.182581</td>\n",
       "    </tr>\n",
       "  </tbody>\n",
       "</table>\n",
       "</div>"
      ],
      "text/plain": [
       "  param_ridgeclassifier__alpha param_ridgeclassifier__class_weight  \\\n",
       "4                            3                        {0: 1, 1: 1}   \n",
       "2                            2                        {0: 1, 1: 1}   \n",
       "0                            1                        {0: 1, 1: 1}   \n",
       "5                            3                        {0: 1, 1: 3}   \n",
       "3                            2                        {0: 1, 1: 3}   \n",
       "1                            1                        {0: 1, 1: 3}   \n",
       "\n",
       "   mean_test_accuracy  mean_test_precision  mean_test_recall  \\\n",
       "4            0.738258             0.133504          0.794103   \n",
       "2            0.739237             0.133963          0.794103   \n",
       "0            0.739481             0.134058          0.794103   \n",
       "5            0.582188             0.101112          0.959872   \n",
       "3            0.582432             0.101167          0.959872   \n",
       "1            0.583411             0.100952          0.954872   \n",
       "\n",
       "   mean_test_roc_auc  mean_test_f1  \n",
       "4           0.850666      0.228482  \n",
       "2           0.850492      0.229157  \n",
       "0           0.850447      0.229299  \n",
       "5           0.844802      0.182931  \n",
       "3           0.844769      0.183022  \n",
       "1           0.844712      0.182581  "
      ]
     },
     "execution_count": 30,
     "metadata": {},
     "output_type": "execute_result"
    }
   ],
   "source": [
    "# Results for RidgeClassifier\n",
    "ridge_classifier_grid_result = pd.DataFrame.from_dict(tuning_scores[1].cv_results_)\n",
    "ridge_classifier_grid_result = ridge_classifier_grid_result[[\n",
    "                                                    \"param_ridgeclassifier__alpha\", \n",
    "                                                    \"param_ridgeclassifier__class_weight\", \n",
    "                                                    \"mean_test_accuracy\",\n",
    "                                                    \"mean_test_precision\",\n",
    "                                                    \"mean_test_recall\",\n",
    "                                                    \"mean_test_roc_auc\",\n",
    "                                                    \"mean_test_f1\"]]\n",
    "ridge_classifier_grid_result.sort_values(by = \"mean_test_roc_auc\", ascending = False)"
   ]
  },
  {
   "cell_type": "markdown",
   "id": "b917660a",
   "metadata": {
    "papermill": {
     "duration": 0.075055,
     "end_time": "2022-03-20T05:06:11.479924",
     "exception": false,
     "start_time": "2022-03-20T05:06:11.404869",
     "status": "completed"
    },
    "tags": []
   },
   "source": [
    "From these grid search, we have found that both the logistic regression and the ridge regression models are really close in performance on their roc_auc score which is the primary metric, and that the increasing alpha values in ridge classifier does help in improving the scores. Changing class weights improves test recall a lot but because of tradeoff between test recall and test precision, test precision takes a sligh hit, along with a large hit on test accuracy. Now, we have to make a call on what parameter is more important for us between test precision and test recall. with the roc_auc, the primary metric still high, we choose to prefer better test precision and test accuracy.\n",
    "\n",
    "From this, we have identified the ML model - RidgeClassifier with the default class weghts 1:1 and alpha value of 3. Now, we will train this final model and make predictions on the test dataset and then evaluate those predictions."
   ]
  },
  {
   "cell_type": "markdown",
   "id": "f14e4009",
   "metadata": {
    "papermill": {
     "duration": 0.077026,
     "end_time": "2022-03-20T05:06:11.632265",
     "exception": false,
     "start_time": "2022-03-20T05:06:11.555239",
     "status": "completed"
    },
    "tags": []
   },
   "source": [
    "## Final Model and Predictions\n",
    "\n",
    "We can now train a RidgeClassifier with the default parameters with a imblearn Pipeline and then make predictions on the test dataset."
   ]
  },
  {
   "cell_type": "code",
   "execution_count": 31,
   "id": "c798202d",
   "metadata": {
    "execution": {
     "iopub.execute_input": "2022-03-20T05:06:11.797128Z",
     "iopub.status.busy": "2022-03-20T05:06:11.796468Z",
     "iopub.status.idle": "2022-03-20T05:06:11.897328Z",
     "shell.execute_reply": "2022-03-20T05:06:11.898367Z",
     "shell.execute_reply.started": "2022-03-16T08:06:01.70047Z"
    },
    "papermill": {
     "duration": 0.190829,
     "end_time": "2022-03-20T05:06:11.898640",
     "exception": false,
     "start_time": "2022-03-20T05:06:11.707811",
     "status": "completed"
    },
    "tags": []
   },
   "outputs": [
    {
     "data": {
      "text/plain": [
       "Pipeline(steps=[('columntransformer',\n",
       "                 ColumnTransformer(remainder='passthrough',\n",
       "                                   transformers=[('pipeline-1',\n",
       "                                                  Pipeline(steps=[('functiontransformer',\n",
       "                                                                   FunctionTransformer(func=<function to_int at 0x7fc4d14a3200>)),\n",
       "                                                                  ('minmaxscaler',\n",
       "                                                                   MinMaxScaler())]),\n",
       "                                                  ['age']),\n",
       "                                                 ('pipeline-2',\n",
       "                                                  Pipeline(steps=[('simpleimputer',\n",
       "                                                                   SimpleImputer(strategy='median')),\n",
       "                                                                  ('minmaxscaler',\n",
       "                                                                   MinM...\n",
       "                                                  ['avg_glucose_level', 'bmi']),\n",
       "                                                 ('missingindicator',\n",
       "                                                  MissingIndicator(),\n",
       "                                                  ['avg_glucose_level', 'bmi']),\n",
       "                                                 ('onehotencoder',\n",
       "                                                  OneHotEncoder(drop='first',\n",
       "                                                                handle_unknown='ignore',\n",
       "                                                                sparse=False),\n",
       "                                                  ['gender', 'ever_married',\n",
       "                                                   'work_type',\n",
       "                                                   'Residence_type',\n",
       "                                                   'smoking_status'])])),\n",
       "                ('smote', SMOTE(random_state=42)),\n",
       "                ('ridgeclassifier', RidgeClassifier(alpha=3, random_state=42))])"
      ]
     },
     "execution_count": 31,
     "metadata": {},
     "output_type": "execute_result"
    }
   ],
   "source": [
    "# Model Training\n",
    "ridge = RidgeClassifier(random_state = 42, alpha = 3)\n",
    "\n",
    "ridge_pipe = make_pipeline(ct, sm, ridge)\n",
    "\n",
    "ridge_pipe.fit(X_train, y_train)"
   ]
  },
  {
   "cell_type": "code",
   "execution_count": 32,
   "id": "59a0c752",
   "metadata": {
    "execution": {
     "iopub.execute_input": "2022-03-20T05:06:12.085291Z",
     "iopub.status.busy": "2022-03-20T05:06:12.084623Z",
     "iopub.status.idle": "2022-03-20T05:06:12.382412Z",
     "shell.execute_reply": "2022-03-20T05:06:12.381709Z",
     "shell.execute_reply.started": "2022-03-16T08:06:02.410534Z"
    },
    "papermill": {
     "duration": 0.383987,
     "end_time": "2022-03-20T05:06:12.382588",
     "exception": false,
     "start_time": "2022-03-20T05:06:11.998601",
     "status": "completed"
    },
    "tags": []
   },
   "outputs": [
    {
     "data": {
      "text/plain": [
       "<sklearn.metrics._plot.confusion_matrix.ConfusionMatrixDisplay at 0x7fc48bf1dc10>"
      ]
     },
     "execution_count": 32,
     "metadata": {},
     "output_type": "execute_result"
    },
    {
     "data": {
      "image/png": "[encoded data removed]",
      "text/plain": [
       "<Figure size 432x288 with 2 Axes>"
      ]
     },
     "metadata": {
      "needs_background": "light"
     },
     "output_type": "display_data"
    }
   ],
   "source": [
    "# Predictions on test dataset\n",
    "preds = ridge_pipe.predict(X_test)\n",
    "ConfusionMatrixDisplay.from_predictions(y_test, preds)"
   ]
  },
  {
   "cell_type": "code",
   "execution_count": 33,
   "id": "b8d97f63",
   "metadata": {
    "execution": {
     "iopub.execute_input": "2022-03-20T05:06:12.545274Z",
     "iopub.status.busy": "2022-03-20T05:06:12.544583Z",
     "iopub.status.idle": "2022-03-20T05:06:12.797165Z",
     "shell.execute_reply": "2022-03-20T05:06:12.797696Z",
     "shell.execute_reply.started": "2022-03-16T08:08:51.314753Z"
    },
    "papermill": {
     "duration": 0.337164,
     "end_time": "2022-03-20T05:06:12.797874",
     "exception": false,
     "start_time": "2022-03-20T05:06:12.460710",
     "status": "completed"
    },
    "tags": []
   },
   "outputs": [
    {
     "name": "stdout",
     "output_type": "stream",
     "text": [
      "Accuracy Score: 0.7465753424657534\n",
      "Precision Score: 0.1384083044982699\n",
      "Recall Score: 0.8\n"
     ]
    },
    {
     "data": {
      "image/png": "[encoded data removed]",
      "text/plain": [
       "<Figure size 432x288 with 1 Axes>"
      ]
     },
     "metadata": {
      "needs_background": "light"
     },
     "output_type": "display_data"
    }
   ],
   "source": [
    "# Metrics for test predictions\n",
    "RocCurveDisplay.from_estimator(ridge_pipe, X_test, y_test, name = \"RidgeClassifier\")\n",
    "print(\"Accuracy Score:\", accuracy_score(y_test, preds))\n",
    "print(\"Precision Score:\", precision_score(y_test, preds))\n",
    "print(\"Recall Score:\", recall_score(y_test, preds))"
   ]
  },
  {
   "cell_type": "markdown",
   "id": "7a74d7d0",
   "metadata": {
    "papermill": {
     "duration": 0.078705,
     "end_time": "2022-03-20T05:06:12.955964",
     "exception": false,
     "start_time": "2022-03-20T05:06:12.877259",
     "status": "completed"
    },
    "tags": []
   },
   "source": [
    "The classifier has predicted 723 True Negatives and 40 True Positives. There are 259 misclassifications too out of which 249 are False Positives. Considering that the predictions class was highly imbalanced to begin with, the model has worked really well in making correct classifications. Its AUC_ROC score on the test dataset is 0.85, similar to what we found on the train dataset. With more data, we can improve this score further. "
   ]
  },
  {
   "cell_type": "markdown",
   "id": "30b22e09",
   "metadata": {
    "papermill": {
     "duration": 0.078265,
     "end_time": "2022-03-20T05:06:13.113340",
     "exception": false,
     "start_time": "2022-03-20T05:06:13.035075",
     "status": "completed"
    },
    "tags": []
   },
   "source": [
    "\n",
    "## Summary and Conclusion"
   ]
  },
  {
   "cell_type": "markdown",
   "id": "484bd310",
   "metadata": {
    "papermill": {
     "duration": 0.079585,
     "end_time": "2022-03-20T05:06:13.271613",
     "exception": false,
     "start_time": "2022-03-20T05:06:13.192028",
     "status": "completed"
    },
    "tags": []
   },
   "source": [
    "In this project, we used the Stroke Dataset available on Kaggle to predict whether a patient would suffer from a stroke. First, we prepared the data for training and test by splitting it using train_test_split. Then we explored the data and understood where it needed some cleaning and preparation. With this knowledge, we developed imblearn's Pipelines to clean the data. We then explored multiple ML models and studied their performance through multiple metrics, primarily focusing on roc_auc scores. This choice of metrics was made with the knowledge that in the medicinal domain, the correct knowledge of True Positives is much more valuable than the wrong knowledge on False Positives.  We chose 2 linear models from this step for further model tuning and selection. RidgeClassifier turned out to be performing the best with its default parameters. We then trained this model and made predictions on the test data that we got from the split earlier. On the predictions, we achieved respectable scores on recall - 0.8 and on precision - 0.14. "
   ]
  },
  {
   "cell_type": "code",
   "execution_count": null,
   "id": "2ab53e8a",
   "metadata": {
    "papermill": {
     "duration": 0.078354,
     "end_time": "2022-03-20T05:06:13.428543",
     "exception": false,
     "start_time": "2022-03-20T05:06:13.350189",
     "status": "completed"
    },
    "tags": []
   },
   "outputs": [],
   "source": []
  }
 ],
 "metadata": {
  "kernelspec": {
   "display_name": "Python 3",
   "language": "python",
   "name": "python3"
  },
  "language_info": {
   "codemirror_mode": {
    "name": "ipython",
    "version": 3
   },
   "file_extension": ".py",
   "mimetype": "text/x-python",
   "name": "python",
   "nbconvert_exporter": "python",
   "pygments_lexer": "ipython3",
   "version": "3.7.12"
  },
  "papermill": {
   "default_parameters": {},
   "duration": 46.563243,
   "end_time": "2022-03-20T05:06:14.419486",
   "environment_variables": {},
   "exception": null,
   "input_path": "__notebook__.ipynb",
   "output_path": "__notebook__.ipynb",
   "parameters": {},
   "start_time": "2022-03-20T05:05:27.856243",
   "version": "2.3.3"
  }
 },
 "nbformat": 4,
 "nbformat_minor": 5
}
