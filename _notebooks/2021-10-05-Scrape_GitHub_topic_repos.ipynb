{
 "cells": [
  {
   "cell_type": "markdown",
   "id": "3a7fe871",
   "metadata": {},
   "source": [
    "# Scraping Top Repositories for Topics on GitHub\n",
    "\n",
    "- toc: true\n",
    "- badges: true"
   ]
  },
  {
   "cell_type": "markdown",
   "id": "84d8f4aa",
   "metadata": {},
   "source": [
    "GitHub is an increasingly popular programming resource used for code sharing. It's a social networking site for programmers that many companies and organizations use to facilitate project management and collaboration. According to [statistics collected](https://octoverse.github.com/) in August 2021, it was the most prominent source code host, with over 60 million new repositories created in 2020 and boasting over 67 million total developers. \n",
    "\n",
    "All the projects on Github are stored as repositories. These repositories can get upvotes which are stored as stars. The stars that a repository gets can give us a guage of how popular the repository is. We can further filter all the repositores on GitHub by the topic they ascribe to. The list of topics is available [here](https://github.com/topics).\n",
    "\n",
    "Thus, we'll scrape GitHub for the top repocistories on each topic and then save that to a csv file for future use. In order to do this, we'll use the following tools:\n",
    " - Python as the programming language\n",
    " - Requests library for downloading the webpage contents\n",
    " - BeautifulSoup library for finding and accessing the relevant information from the downloaded webpage.\n",
    " - Pandas library for saving the accessed information to a csv file.\n",
    "     \n",
    "     \n",
    "     \n",
    "- Introduction about GitHub and the problem statement"
   ]
  },
  {
   "cell_type": "markdown",
   "id": "26ab9fe0",
   "metadata": {},
   "source": [
    "\n",
    "Here are the steps we'll follow:\n",
    "\n",
    "- We're going to scrape https://github.com/topics\n",
    "- We'll get a list of topics. For each topic, we'll get topic title, topic page URL and topic description\n",
    "- For each topic, we'll get the top 30 repositories in the topic from the topic page\n",
    "- For each repository, we'll grab the repo name, username, stars and repo URL\n",
    "- For each topic we'll create a CSV file in the following format:\n",
    "\n",
    "```\n",
    "Repo Name,Username,Stars,Repo URL\n",
    "three.js,mrdoob,69700,https://github.com/mrdoob/three.js\n",
    "libgdx,libgdx,18300,https://github.com/libgdx/libgdx\n",
    "```"
   ]
  },
  {
   "cell_type": "markdown",
   "id": "c40286a3",
   "metadata": {},
   "source": [
    "# Setup\n",
    "\n",
    "Import the required libraries"
   ]
  },
  {
   "cell_type": "code",
   "execution_count": 88,
   "id": "98e0ce75",
   "metadata": {},
   "outputs": [],
   "source": [
    "import os\n",
    "import requests\n",
    "from bs4 import BeautifulSoup\n",
    "import pandas as pd"
   ]
  },
  {
   "cell_type": "markdown",
   "id": "b521e700",
   "metadata": {},
   "source": [
    "Set up URLs and the user-agent."
   ]
  },
  {
   "cell_type": "code",
   "execution_count": 89,
   "id": "9d5096ba",
   "metadata": {},
   "outputs": [],
   "source": [
    "topics_url = \"https://github.com/topics\"\n",
    "base_url = 'https://github.com'\n",
    "\n",
    "header = {\"User-Agent\": \"Mozilla/5.0\"}"
   ]
  },
  {
   "cell_type": "markdown",
   "id": "82520698",
   "metadata": {},
   "source": [
    "Create variables to store scraped information."
   ]
  },
  {
   "cell_type": "code",
   "execution_count": 90,
   "id": "d1788cae",
   "metadata": {},
   "outputs": [],
   "source": [
    "topic_titles = []\n",
    "topic_desc = []\n",
    "topic_URL = []"
   ]
  },
  {
   "cell_type": "markdown",
   "id": "c5bf82b3",
   "metadata": {},
   "source": [
    "## Scrape the list of topics.\n",
    "\n",
    "### Download the topics webpage and create a BeautifulSoup object\n",
    "\n",
    "Let's write a function to download the page."
   ]
  },
  {
   "cell_type": "code",
   "execution_count": 91,
   "id": "0fc5feae",
   "metadata": {},
   "outputs": [],
   "source": [
    "def get_soup(url):\n",
    "    '''\n",
    "    This function will download the webpage for the url supplied as argument\n",
    "    and return the BeautifulSoup object for the webpage which can be used to \n",
    "    grab required information for the webpage.\n",
    "    '''\n",
    "    response = requests.get(url, \"html.parser\", headers = header)\n",
    "    \n",
    "    if response.status_code != 200:\n",
    "        raise Exception('Failed to load page {}'.format(url))\n",
    "        \n",
    "    soup = BeautifulSoup(response.text)\n",
    "    \n",
    "    return soup"
   ]
  },
  {
   "cell_type": "code",
   "execution_count": 92,
   "id": "74784b2b",
   "metadata": {},
   "outputs": [
    {
     "data": {
      "text/plain": [
       "bs4.BeautifulSoup"
      ]
     },
     "execution_count": 92,
     "metadata": {},
     "output_type": "execute_result"
    }
   ],
   "source": [
    "\n",
    "# Example\n",
    "soup = get_soup(topics_url)\n",
    "type(soup)"
   ]
  },
  {
   "cell_type": "markdown",
   "id": "10e6ae56",
   "metadata": {},
   "source": [
    "### Create a transform function\n",
    "\n",
    "Let's create some helper functions to parse information from the page.\n"
   ]
  },
  {
   "cell_type": "markdown",
   "id": "31124951",
   "metadata": {},
   "source": [
    "#### Get topic titles"
   ]
  },
  {
   "cell_type": "markdown",
   "id": "47b98eeb",
   "metadata": {},
   "source": [
    "To get topic titles, we can pick `p` tags with the `class` \"f3 lh-condensed mb-0 mt-1 Link--primary\"\n",
    "\n",
    "\n",
    "\n",
    "<div style=\"max-width:800px;margin-left: auto; margin-left: 0;\">\n",
    "    \n",
    "![My Image alt text](https://i.imgur.com/OnzIdyP.png)\n",
    "</div>"
   ]
  },
  {
   "cell_type": "code",
   "execution_count": 93,
   "id": "7280c410",
   "metadata": {},
   "outputs": [],
   "source": [
    "\n",
    "# finding all topic titles\n",
    "def get_topic_titles(soup):\n",
    "    selection_class = 'f3 lh-condensed mb-0 mt-1 Link--primary'\n",
    "    topic_title_tags = soup.find_all('p', {'class': selection_class})\n",
    "    topic_titles = []\n",
    "    for tag in topic_title_tags:\n",
    "        topic_titles.append(tag.text)\n",
    "    return topic_titles"
   ]
  },
  {
   "cell_type": "code",
   "execution_count": 94,
   "id": "452647f6",
   "metadata": {},
   "outputs": [
    {
     "data": {
      "text/plain": [
       "30"
      ]
     },
     "execution_count": 94,
     "metadata": {},
     "output_type": "execute_result"
    }
   ],
   "source": [
    "\n",
    "# Example\n",
    "titles = get_topic_titles(soup)\n",
    "\n",
    "len(titles)"
   ]
  },
  {
   "cell_type": "code",
   "execution_count": 95,
   "id": "fe167b8b",
   "metadata": {},
   "outputs": [
    {
     "data": {
      "text/plain": [
       "['3D', 'Ajax', 'Algorithm', 'Amp', 'Android']"
      ]
     },
     "execution_count": 95,
     "metadata": {},
     "output_type": "execute_result"
    }
   ],
   "source": [
    "titles[:5]"
   ]
  },
  {
   "cell_type": "markdown",
   "id": "78fd516b",
   "metadata": {},
   "source": [
    "This is the list of topics on page number 1. We will today scrape information for topics only on this page. In the future, we can scrape information from other pages as well by changing the page number in the url.\n",
    "Now we'll find the topic descriptions similarly."
   ]
  },
  {
   "cell_type": "markdown",
   "id": "5bf569b9",
   "metadata": {},
   "source": [
    "#### Get topic descriptions"
   ]
  },
  {
   "cell_type": "code",
   "execution_count": 96,
   "id": "659caa36",
   "metadata": {},
   "outputs": [],
   "source": [
    "\n",
    "# finding all topics descriptions\n",
    "def get_topic_descs(soup):\n",
    "    desc_selector = 'f5 color-fg-muted mb-0 mt-1'\n",
    "    topic_desc_tags = soup.find_all('p', {'class': desc_selector})\n",
    "    topic_descs = []\n",
    "    for tag in topic_desc_tags:\n",
    "        topic_descs.append(tag.text.strip())\n",
    "    return topic_descs\n"
   ]
  },
  {
   "cell_type": "code",
   "execution_count": 97,
   "id": "00043351",
   "metadata": {},
   "outputs": [
    {
     "data": {
      "text/plain": [
       "30"
      ]
     },
     "execution_count": 97,
     "metadata": {},
     "output_type": "execute_result"
    }
   ],
   "source": [
    "\n",
    "# Example\n",
    "topics_descs = get_topic_descs(soup)\n",
    "\n",
    "len(topics_descs)"
   ]
  },
  {
   "cell_type": "code",
   "execution_count": 98,
   "id": "b48b2144",
   "metadata": {},
   "outputs": [
    {
     "data": {
      "text/plain": [
       "['3D modeling is the process of virtually developing the surface and structure of a 3D object.',\n",
       " 'Ajax is a technique for creating interactive web applications.',\n",
       " 'Algorithms are self-contained sequences that carry out a variety of tasks.',\n",
       " 'Amp is a non-blocking concurrency library for PHP.',\n",
       " 'Android is an operating system built by Google designed for mobile devices.']"
      ]
     },
     "execution_count": 98,
     "metadata": {},
     "output_type": "execute_result"
    }
   ],
   "source": [
    "topics_descs[:5]"
   ]
  },
  {
   "cell_type": "markdown",
   "id": "c755abd9",
   "metadata": {},
   "source": [
    "Similary, we'll find the topic urls."
   ]
  },
  {
   "cell_type": "markdown",
   "id": "eeec5ce7",
   "metadata": {},
   "source": [
    "#### Get topic URLs"
   ]
  },
  {
   "cell_type": "code",
   "execution_count": 99,
   "id": "5b86720f",
   "metadata": {},
   "outputs": [],
   "source": [
    "def get_topic_urls(soup):\n",
    "    topic_link_tags = soup.find_all('a', {'class': 'no-underline flex-1 d-flex flex-column'})\n",
    "    topic_urls = []\n",
    "    for tag in topic_link_tags:\n",
    "        topic_urls.append(base_url + tag['href'])\n",
    "    return topic_urls"
   ]
  },
  {
   "cell_type": "code",
   "execution_count": 100,
   "id": "7827baac",
   "metadata": {},
   "outputs": [
    {
     "data": {
      "text/plain": [
       "30"
      ]
     },
     "execution_count": 100,
     "metadata": {},
     "output_type": "execute_result"
    }
   ],
   "source": [
    "\n",
    "# Example\n",
    "topic_urls = get_topic_urls(soup)\n",
    "len(topic_urls)"
   ]
  },
  {
   "cell_type": "code",
   "execution_count": 101,
   "id": "a4603a69",
   "metadata": {},
   "outputs": [
    {
     "data": {
      "text/plain": [
       "['https://github.com/topics/3d',\n",
       " 'https://github.com/topics/ajax',\n",
       " 'https://github.com/topics/algorithm',\n",
       " 'https://github.com/topics/amphp',\n",
       " 'https://github.com/topics/android']"
      ]
     },
     "execution_count": 101,
     "metadata": {},
     "output_type": "execute_result"
    }
   ],
   "source": [
    "topic_urls[:5]"
   ]
  },
  {
   "cell_type": "markdown",
   "id": "cf638764",
   "metadata": {},
   "source": [
    "#### Save all information\n",
    "\n",
    "We'll put together all this information into a single function and then save the scraped information into a pandas DataFrame."
   ]
  },
  {
   "cell_type": "code",
   "execution_count": 102,
   "id": "b1cd1c68",
   "metadata": {},
   "outputs": [],
   "source": [
    "def scrape_topics():\n",
    "    topics_url = 'https://github.com/topics'\n",
    "    soup = get_soup(topics_url)\n",
    "    topics_dict = {\n",
    "        'Title': get_topic_titles(soup),\n",
    "        'Description': get_topic_descs(soup),\n",
    "        'URL': get_topic_urls(soup)\n",
    "    }\n",
    "    return pd.DataFrame(topics_dict)"
   ]
  },
  {
   "cell_type": "code",
   "execution_count": 103,
   "id": "3d90d965",
   "metadata": {},
   "outputs": [
    {
     "data": {
      "text/html": [
       "<div>\n",
       "<style scoped>\n",
       "    .dataframe tbody tr th:only-of-type {\n",
       "        vertical-align: middle;\n",
       "    }\n",
       "\n",
       "    .dataframe tbody tr th {\n",
       "        vertical-align: top;\n",
       "    }\n",
       "\n",
       "    .dataframe thead th {\n",
       "        text-align: right;\n",
       "    }\n",
       "</style>\n",
       "<table border=\"1\" class=\"dataframe\">\n",
       "  <thead>\n",
       "    <tr style=\"text-align: right;\">\n",
       "      <th></th>\n",
       "      <th>Title</th>\n",
       "      <th>Description</th>\n",
       "      <th>URL</th>\n",
       "    </tr>\n",
       "  </thead>\n",
       "  <tbody>\n",
       "    <tr>\n",
       "      <th>0</th>\n",
       "      <td>3D</td>\n",
       "      <td>3D modeling is the process of virtually develo...</td>\n",
       "      <td>https://github.com/topics/3d</td>\n",
       "    </tr>\n",
       "    <tr>\n",
       "      <th>1</th>\n",
       "      <td>Ajax</td>\n",
       "      <td>Ajax is a technique for creating interactive w...</td>\n",
       "      <td>https://github.com/topics/ajax</td>\n",
       "    </tr>\n",
       "    <tr>\n",
       "      <th>2</th>\n",
       "      <td>Algorithm</td>\n",
       "      <td>Algorithms are self-contained sequences that c...</td>\n",
       "      <td>https://github.com/topics/algorithm</td>\n",
       "    </tr>\n",
       "    <tr>\n",
       "      <th>3</th>\n",
       "      <td>Amp</td>\n",
       "      <td>Amp is a non-blocking concurrency library for ...</td>\n",
       "      <td>https://github.com/topics/amphp</td>\n",
       "    </tr>\n",
       "    <tr>\n",
       "      <th>4</th>\n",
       "      <td>Android</td>\n",
       "      <td>Android is an operating system built by Google...</td>\n",
       "      <td>https://github.com/topics/android</td>\n",
       "    </tr>\n",
       "  </tbody>\n",
       "</table>\n",
       "</div>"
      ],
      "text/plain": [
       "       Title                                        Description  \\\n",
       "0         3D  3D modeling is the process of virtually develo...   \n",
       "1       Ajax  Ajax is a technique for creating interactive w...   \n",
       "2  Algorithm  Algorithms are self-contained sequences that c...   \n",
       "3        Amp  Amp is a non-blocking concurrency library for ...   \n",
       "4    Android  Android is an operating system built by Google...   \n",
       "\n",
       "                                   URL  \n",
       "0         https://github.com/topics/3d  \n",
       "1       https://github.com/topics/ajax  \n",
       "2  https://github.com/topics/algorithm  \n",
       "3      https://github.com/topics/amphp  \n",
       "4    https://github.com/topics/android  "
      ]
     },
     "execution_count": 103,
     "metadata": {},
     "output_type": "execute_result"
    }
   ],
   "source": [
    "topics_df = scrape_topics()\n",
    "\n",
    "topics_df.head()"
   ]
  },
  {
   "cell_type": "markdown",
   "id": "8020f64f",
   "metadata": {},
   "source": [
    "## Scraping for top 30 repos for each topic"
   ]
  },
  {
   "cell_type": "markdown",
   "id": "3ccf5881",
   "metadata": {},
   "source": [
    "Now that we have the topics with their titles, descriptions and url, we can access each topic url to grab information about the top 30 repositories from that topic individually and then save the scraped information for each topic as a separate csv file.\n",
    "\n",
    "Each topic page looks like this\n",
    "\n",
    "![fdg](https://i.imgur.com/pOu2UrI.jpeg)"
   ]
  },
  {
   "cell_type": "markdown",
   "id": "2e1c1f85",
   "metadata": {},
   "source": [
    "From this page, we'll grab information about the top 30 repositories based on their popularity as measured by the number of stars. The repositories are already sorted by popularity by default, so we can grab 30 of them from the first page on each topic itself. \n",
    "We'll begin by writing a function to download each topic page and create its BeautifulSoup object. "
   ]
  },
  {
   "cell_type": "markdown",
   "id": "738cc0cc",
   "metadata": {},
   "source": [
    "### Download each topic page and create a BeautifulSoup Object"
   ]
  },
  {
   "cell_type": "code",
   "execution_count": 104,
   "id": "0f70fe37",
   "metadata": {},
   "outputs": [],
   "source": [
    "def get_topic_page(topic_url):\n",
    "    # Download the page\n",
    "    response = requests.get(topic_url, \"html.parser\", headers = header)\n",
    "    # Check successful response\n",
    "    if response.status_code != 200:\n",
    "        raise Exception('Failed to load page {}'.format(topic_url))\n",
    "    # Parse using Beautiful soup\n",
    "    topic_soup = BeautifulSoup(response.text)\n",
    "    return topic_soup\n"
   ]
  },
  {
   "cell_type": "code",
   "execution_count": 105,
   "id": "177c5b73",
   "metadata": {},
   "outputs": [],
   "source": [
    "page = get_topic_page('https://github.com/topics/3d')"
   ]
  },
  {
   "cell_type": "markdown",
   "id": "88759003",
   "metadata": {},
   "source": [
    "### Transform the topic Beautiful Object"
   ]
  },
  {
   "cell_type": "markdown",
   "id": "ac0940ae",
   "metadata": {},
   "source": [
    "#### Get all the required information about a repository\n",
    "\n",
    "All the information that we need about a repository is given under a `div` tag with class `d-flex flex-justify-between my-3`. So we will make a function which takes in the content of each repository from these tags as arguement. It will then grab and return the required information from the content."
   ]
  },
  {
   "cell_type": "code",
   "execution_count": 106,
   "id": "926d7a19",
   "metadata": {},
   "outputs": [],
   "source": [
    "def get_repo_info(repo):\n",
    "    # returns all the required info about a repository\n",
    "    info = repo.find('h3', {'class': 'f3 color-fg-muted text-normal lh-condensed'}).find_all('a')\n",
    "    username = info[0].text.strip()\n",
    "    repo_name = info[1].text.strip()\n",
    "    repo_url =  base_url + info[0]['href'].strip()\n",
    "    stars = repo.find('span', {'id': 'repo-stars-counter-star'}).text.strip()\n",
    "    return username, repo_name, stars, repo_url"
   ]
  },
  {
   "cell_type": "code",
   "execution_count": 107,
   "id": "037f3c33",
   "metadata": {},
   "outputs": [
    {
     "data": {
      "text/plain": [
       "('mrdoob', 'three.js', '80.6k', 'https://github.com/mrdoob')"
      ]
     },
     "execution_count": 107,
     "metadata": {},
     "output_type": "execute_result"
    }
   ],
   "source": [
    "\n",
    "# Example\n",
    "repo_contents = page.find_all('div', {'class': 'd-flex flex-justify-between my-3'})\n",
    "\n",
    "get_repo_info(repo_contents[0])"
   ]
  },
  {
   "cell_type": "markdown",
   "id": "85dffd55",
   "metadata": {},
   "source": [
    "Here we can see that the function returns the information about the first repository from the topic page. The top repository in this case is 'three.js' with 80.6k stars."
   ]
  },
  {
   "cell_type": "markdown",
   "id": "63193054",
   "metadata": {},
   "source": [
    "#### Grab the information from top 30 repos under a topic.\n",
    "\n",
    "Now, we'll write a function to grab information about repositories within a topic. It will take in a topic soup and return a pandas DataFrame on the top 30 repos in that topic."
   ]
  },
  {
   "cell_type": "code",
   "execution_count": 108,
   "id": "4a18a7b1",
   "metadata": {},
   "outputs": [],
   "source": [
    "def get_topic_repos(topic_soup):\n",
    "\n",
    "    div_selection_class = 'd-flex flex-justify-between my-3'\n",
    "    repo_tags = topic_soup.find_all('div', {'class': div_selection_class})\n",
    "\n",
    "    topic_repos_dict = { 'username': [], 'repo_name': [], 'stars': [],'repo_url': []}\n",
    "\n",
    "    # Get repo info\n",
    "    for i in range(len(repo_tags)):\n",
    "        username, repo_name, stars, repo_url = get_repo_info(repo_tags[i])\n",
    "        topic_repos_dict['username'].append(username)\n",
    "        topic_repos_dict['repo_name'].append(repo_name)\n",
    "        topic_repos_dict['stars'].append(stars)\n",
    "        topic_repos_dict['repo_url'].append(repo_url)\n",
    "        \n",
    "    return pd.DataFrame(topic_repos_dict)"
   ]
  },
  {
   "cell_type": "code",
   "execution_count": 109,
   "id": "10672fa2",
   "metadata": {},
   "outputs": [
    {
     "data": {
      "text/html": [
       "<div>\n",
       "<style scoped>\n",
       "    .dataframe tbody tr th:only-of-type {\n",
       "        vertical-align: middle;\n",
       "    }\n",
       "\n",
       "    .dataframe tbody tr th {\n",
       "        vertical-align: top;\n",
       "    }\n",
       "\n",
       "    .dataframe thead th {\n",
       "        text-align: right;\n",
       "    }\n",
       "</style>\n",
       "<table border=\"1\" class=\"dataframe\">\n",
       "  <thead>\n",
       "    <tr style=\"text-align: right;\">\n",
       "      <th></th>\n",
       "      <th>username</th>\n",
       "      <th>repo_name</th>\n",
       "      <th>stars</th>\n",
       "      <th>repo_url</th>\n",
       "    </tr>\n",
       "  </thead>\n",
       "  <tbody>\n",
       "    <tr>\n",
       "      <th>0</th>\n",
       "      <td>mrdoob</td>\n",
       "      <td>three.js</td>\n",
       "      <td>80.6k</td>\n",
       "      <td>https://github.com/mrdoob</td>\n",
       "    </tr>\n",
       "    <tr>\n",
       "      <th>1</th>\n",
       "      <td>libgdx</td>\n",
       "      <td>libgdx</td>\n",
       "      <td>19.8k</td>\n",
       "      <td>https://github.com/libgdx</td>\n",
       "    </tr>\n",
       "    <tr>\n",
       "      <th>2</th>\n",
       "      <td>pmndrs</td>\n",
       "      <td>react-three-fiber</td>\n",
       "      <td>17.4k</td>\n",
       "      <td>https://github.com/pmndrs</td>\n",
       "    </tr>\n",
       "    <tr>\n",
       "      <th>3</th>\n",
       "      <td>BabylonJS</td>\n",
       "      <td>Babylon.js</td>\n",
       "      <td>16.2k</td>\n",
       "      <td>https://github.com/BabylonJS</td>\n",
       "    </tr>\n",
       "    <tr>\n",
       "      <th>4</th>\n",
       "      <td>aframevr</td>\n",
       "      <td>aframe</td>\n",
       "      <td>14k</td>\n",
       "      <td>https://github.com/aframevr</td>\n",
       "    </tr>\n",
       "    <tr>\n",
       "      <th>5</th>\n",
       "      <td>ssloy</td>\n",
       "      <td>tinyrenderer</td>\n",
       "      <td>13.3k</td>\n",
       "      <td>https://github.com/ssloy</td>\n",
       "    </tr>\n",
       "    <tr>\n",
       "      <th>6</th>\n",
       "      <td>lettier</td>\n",
       "      <td>3d-game-shaders-for-beginners</td>\n",
       "      <td>12.5k</td>\n",
       "      <td>https://github.com/lettier</td>\n",
       "    </tr>\n",
       "    <tr>\n",
       "      <th>7</th>\n",
       "      <td>FreeCAD</td>\n",
       "      <td>FreeCAD</td>\n",
       "      <td>11k</td>\n",
       "      <td>https://github.com/FreeCAD</td>\n",
       "    </tr>\n",
       "    <tr>\n",
       "      <th>8</th>\n",
       "      <td>metafizzy</td>\n",
       "      <td>zdog</td>\n",
       "      <td>9.1k</td>\n",
       "      <td>https://github.com/metafizzy</td>\n",
       "    </tr>\n",
       "    <tr>\n",
       "      <th>9</th>\n",
       "      <td>CesiumGS</td>\n",
       "      <td>cesium</td>\n",
       "      <td>8.5k</td>\n",
       "      <td>https://github.com/CesiumGS</td>\n",
       "    </tr>\n",
       "    <tr>\n",
       "      <th>10</th>\n",
       "      <td>timzhang642</td>\n",
       "      <td>3D-Machine-Learning</td>\n",
       "      <td>7.8k</td>\n",
       "      <td>https://github.com/timzhang642</td>\n",
       "    </tr>\n",
       "    <tr>\n",
       "      <th>11</th>\n",
       "      <td>a1studmuffin</td>\n",
       "      <td>SpaceshipGenerator</td>\n",
       "      <td>7.1k</td>\n",
       "      <td>https://github.com/a1studmuffin</td>\n",
       "    </tr>\n",
       "    <tr>\n",
       "      <th>12</th>\n",
       "      <td>isl-org</td>\n",
       "      <td>Open3D</td>\n",
       "      <td>6.4k</td>\n",
       "      <td>https://github.com/isl-org</td>\n",
       "    </tr>\n",
       "    <tr>\n",
       "      <th>13</th>\n",
       "      <td>blender</td>\n",
       "      <td>blender</td>\n",
       "      <td>5.2k</td>\n",
       "      <td>https://github.com/blender</td>\n",
       "    </tr>\n",
       "    <tr>\n",
       "      <th>14</th>\n",
       "      <td>domlysz</td>\n",
       "      <td>BlenderGIS</td>\n",
       "      <td>5k</td>\n",
       "      <td>https://github.com/domlysz</td>\n",
       "    </tr>\n",
       "    <tr>\n",
       "      <th>15</th>\n",
       "      <td>spritejs</td>\n",
       "      <td>spritejs</td>\n",
       "      <td>4.8k</td>\n",
       "      <td>https://github.com/spritejs</td>\n",
       "    </tr>\n",
       "    <tr>\n",
       "      <th>16</th>\n",
       "      <td>openscad</td>\n",
       "      <td>openscad</td>\n",
       "      <td>4.7k</td>\n",
       "      <td>https://github.com/openscad</td>\n",
       "    </tr>\n",
       "    <tr>\n",
       "      <th>17</th>\n",
       "      <td>tensorspace-team</td>\n",
       "      <td>tensorspace</td>\n",
       "      <td>4.6k</td>\n",
       "      <td>https://github.com/tensorspace-team</td>\n",
       "    </tr>\n",
       "    <tr>\n",
       "      <th>18</th>\n",
       "      <td>jagenjo</td>\n",
       "      <td>webglstudio.js</td>\n",
       "      <td>4.6k</td>\n",
       "      <td>https://github.com/jagenjo</td>\n",
       "    </tr>\n",
       "    <tr>\n",
       "      <th>19</th>\n",
       "      <td>YadiraF</td>\n",
       "      <td>PRNet</td>\n",
       "      <td>4.6k</td>\n",
       "      <td>https://github.com/YadiraF</td>\n",
       "    </tr>\n",
       "    <tr>\n",
       "      <th>20</th>\n",
       "      <td>AaronJackson</td>\n",
       "      <td>vrn</td>\n",
       "      <td>4.4k</td>\n",
       "      <td>https://github.com/AaronJackson</td>\n",
       "    </tr>\n",
       "    <tr>\n",
       "      <th>21</th>\n",
       "      <td>google</td>\n",
       "      <td>model-viewer</td>\n",
       "      <td>4.1k</td>\n",
       "      <td>https://github.com/google</td>\n",
       "    </tr>\n",
       "    <tr>\n",
       "      <th>22</th>\n",
       "      <td>ssloy</td>\n",
       "      <td>tinyraytracer</td>\n",
       "      <td>4.1k</td>\n",
       "      <td>https://github.com/ssloy</td>\n",
       "    </tr>\n",
       "    <tr>\n",
       "      <th>23</th>\n",
       "      <td>mosra</td>\n",
       "      <td>magnum</td>\n",
       "      <td>3.9k</td>\n",
       "      <td>https://github.com/mosra</td>\n",
       "    </tr>\n",
       "    <tr>\n",
       "      <th>24</th>\n",
       "      <td>FyroxEngine</td>\n",
       "      <td>Fyrox</td>\n",
       "      <td>3.5k</td>\n",
       "      <td>https://github.com/FyroxEngine</td>\n",
       "    </tr>\n",
       "    <tr>\n",
       "      <th>25</th>\n",
       "      <td>gfxfundamentals</td>\n",
       "      <td>webgl-fundamentals</td>\n",
       "      <td>3.5k</td>\n",
       "      <td>https://github.com/gfxfundamentals</td>\n",
       "    </tr>\n",
       "    <tr>\n",
       "      <th>26</th>\n",
       "      <td>tengbao</td>\n",
       "      <td>vanta</td>\n",
       "      <td>3.3k</td>\n",
       "      <td>https://github.com/tengbao</td>\n",
       "    </tr>\n",
       "    <tr>\n",
       "      <th>27</th>\n",
       "      <td>cleardusk</td>\n",
       "      <td>3DDFA</td>\n",
       "      <td>3.2k</td>\n",
       "      <td>https://github.com/cleardusk</td>\n",
       "    </tr>\n",
       "    <tr>\n",
       "      <th>28</th>\n",
       "      <td>jasonlong</td>\n",
       "      <td>isometric-contributions</td>\n",
       "      <td>3.1k</td>\n",
       "      <td>https://github.com/jasonlong</td>\n",
       "    </tr>\n",
       "    <tr>\n",
       "      <th>29</th>\n",
       "      <td>cnr-isti-vclab</td>\n",
       "      <td>meshlab</td>\n",
       "      <td>2.9k</td>\n",
       "      <td>https://github.com/cnr-isti-vclab</td>\n",
       "    </tr>\n",
       "  </tbody>\n",
       "</table>\n",
       "</div>"
      ],
      "text/plain": [
       "            username                      repo_name  stars  \\\n",
       "0             mrdoob                       three.js  80.6k   \n",
       "1             libgdx                         libgdx  19.8k   \n",
       "2             pmndrs              react-three-fiber  17.4k   \n",
       "3          BabylonJS                     Babylon.js  16.2k   \n",
       "4           aframevr                         aframe    14k   \n",
       "5              ssloy                   tinyrenderer  13.3k   \n",
       "6            lettier  3d-game-shaders-for-beginners  12.5k   \n",
       "7            FreeCAD                        FreeCAD    11k   \n",
       "8          metafizzy                           zdog   9.1k   \n",
       "9           CesiumGS                         cesium   8.5k   \n",
       "10       timzhang642            3D-Machine-Learning   7.8k   \n",
       "11      a1studmuffin             SpaceshipGenerator   7.1k   \n",
       "12           isl-org                         Open3D   6.4k   \n",
       "13           blender                        blender   5.2k   \n",
       "14           domlysz                     BlenderGIS     5k   \n",
       "15          spritejs                       spritejs   4.8k   \n",
       "16          openscad                       openscad   4.7k   \n",
       "17  tensorspace-team                    tensorspace   4.6k   \n",
       "18           jagenjo                 webglstudio.js   4.6k   \n",
       "19           YadiraF                          PRNet   4.6k   \n",
       "20      AaronJackson                            vrn   4.4k   \n",
       "21            google                   model-viewer   4.1k   \n",
       "22             ssloy                  tinyraytracer   4.1k   \n",
       "23             mosra                         magnum   3.9k   \n",
       "24       FyroxEngine                          Fyrox   3.5k   \n",
       "25   gfxfundamentals             webgl-fundamentals   3.5k   \n",
       "26           tengbao                          vanta   3.3k   \n",
       "27         cleardusk                          3DDFA   3.2k   \n",
       "28         jasonlong        isometric-contributions   3.1k   \n",
       "29    cnr-isti-vclab                        meshlab   2.9k   \n",
       "\n",
       "                               repo_url  \n",
       "0             https://github.com/mrdoob  \n",
       "1             https://github.com/libgdx  \n",
       "2             https://github.com/pmndrs  \n",
       "3          https://github.com/BabylonJS  \n",
       "4           https://github.com/aframevr  \n",
       "5              https://github.com/ssloy  \n",
       "6            https://github.com/lettier  \n",
       "7            https://github.com/FreeCAD  \n",
       "8          https://github.com/metafizzy  \n",
       "9           https://github.com/CesiumGS  \n",
       "10       https://github.com/timzhang642  \n",
       "11      https://github.com/a1studmuffin  \n",
       "12           https://github.com/isl-org  \n",
       "13           https://github.com/blender  \n",
       "14           https://github.com/domlysz  \n",
       "15          https://github.com/spritejs  \n",
       "16          https://github.com/openscad  \n",
       "17  https://github.com/tensorspace-team  \n",
       "18           https://github.com/jagenjo  \n",
       "19           https://github.com/YadiraF  \n",
       "20      https://github.com/AaronJackson  \n",
       "21            https://github.com/google  \n",
       "22             https://github.com/ssloy  \n",
       "23             https://github.com/mosra  \n",
       "24       https://github.com/FyroxEngine  \n",
       "25   https://github.com/gfxfundamentals  \n",
       "26           https://github.com/tengbao  \n",
       "27         https://github.com/cleardusk  \n",
       "28         https://github.com/jasonlong  \n",
       "29    https://github.com/cnr-isti-vclab  "
      ]
     },
     "execution_count": 109,
     "metadata": {},
     "output_type": "execute_result"
    }
   ],
   "source": [
    "\n",
    "# Example\n",
    "get_topic_repos(page)"
   ]
  },
  {
   "cell_type": "markdown",
   "id": "eb3bf932",
   "metadata": {},
   "source": [
    "As we can see, the function has returned a pandas DataFrame of the top 30 repos from the topic '3d'. Now, we'll make function to save this DataFrame as a csv file if we haven't already created a file on that topic."
   ]
  },
  {
   "cell_type": "markdown",
   "id": "c1c13517",
   "metadata": {},
   "source": [
    "#### Save topic file"
   ]
  },
  {
   "cell_type": "code",
   "execution_count": 110,
   "id": "36132fef",
   "metadata": {},
   "outputs": [],
   "source": [
    "def scrape_topic(topic_url, path):\n",
    "    if os.path.exists(path):\n",
    "        print(\"The file {} already exists. Skipping...\".format(path))\n",
    "        return\n",
    "    topic_df = get_topic_repos(get_topic_page(topic_url))\n",
    "    topic_df.to_csv(path, index=None)"
   ]
  },
  {
   "cell_type": "markdown",
   "id": "eed5b5a5",
   "metadata": {},
   "source": [
    "## Putting it all together\n",
    "\n",
    "- We have a funciton to get the list of topics\n",
    "- We have a function to create a CSV file for scraped repos from a topics page\n",
    "- Let's create a function to put them together"
   ]
  },
  {
   "cell_type": "code",
   "execution_count": 116,
   "id": "ba902f32",
   "metadata": {},
   "outputs": [],
   "source": [
    "def scrape_topics_repos():\n",
    "    print('Scraping list of topics')\n",
    "    topics_df = scrape_topics()\n",
    "    \n",
    "    os.makedirs('data', exist_ok=True)\n",
    "    for index, row in topics_df.iterrows():\n",
    "        print(f\"Scraping top repositories for {row['Title']}\")\n",
    "        scrape_topic(row['URL'], f\"data/{row['Title']}.csv\")"
   ]
  },
  {
   "cell_type": "markdown",
   "id": "e7315ff0",
   "metadata": {},
   "source": [
    "Let's run it to scrape the top repos for the all the topics on the first page of https://github.com/topics"
   ]
  },
  {
   "cell_type": "code",
   "execution_count": 117,
   "id": "c42e2b29",
   "metadata": {},
   "outputs": [
    {
     "name": "stdout",
     "output_type": "stream",
     "text": [
      "Scraping list of topics\n",
      "Scraping top repositories for 3D\n",
      "Scraping top repositories for Ajax\n",
      "Scraping top repositories for Algorithm\n",
      "Scraping top repositories for Amp\n",
      "Scraping top repositories for Android\n",
      "Scraping top repositories for Angular\n",
      "Scraping top repositories for Ansible\n",
      "Scraping top repositories for API\n",
      "Scraping top repositories for Arduino\n",
      "Scraping top repositories for ASP.NET\n",
      "Scraping top repositories for Atom\n",
      "Scraping top repositories for Awesome Lists\n",
      "Scraping top repositories for Amazon Web Services\n",
      "Scraping top repositories for Azure\n",
      "Scraping top repositories for Babel\n",
      "Scraping top repositories for Bash\n",
      "Scraping top repositories for Bitcoin\n",
      "Scraping top repositories for Bootstrap\n",
      "Scraping top repositories for Bot\n",
      "Scraping top repositories for C\n",
      "Scraping top repositories for Chrome\n",
      "Scraping top repositories for Chrome extension\n",
      "Scraping top repositories for Command line interface\n",
      "Scraping top repositories for Clojure\n",
      "Scraping top repositories for Code quality\n",
      "Scraping top repositories for Code review\n",
      "Scraping top repositories for Compiler\n",
      "Scraping top repositories for Continuous integration\n",
      "Scraping top repositories for COVID-19\n",
      "Scraping top repositories for C++\n"
     ]
    }
   ],
   "source": [
    "scrape_topics_repos()"
   ]
  },
  {
   "cell_type": "markdown",
   "id": "3cebddb1",
   "metadata": {},
   "source": [
    "## Summary and Conclusion"
   ]
  },
  {
   "cell_type": "markdown",
   "id": "e3904934",
   "metadata": {},
   "source": [
    "As we can see, we have successfully scraped top 30 repositories for 30 topics. And we have saved the information on these top 30 repositories as a csv file for each topic separately. The information that we have scraped for each repository is its title, owner username, star count and its url. \n",
    "\n",
    "We have scraped repositories for only 30 topics today. This was the number of topics available on the page 1 of https://github.com/topics. But it is easy top scrape more topics. What we just need to do is change the page number in the url https://github.com/topics?page={i} where 'i' is the page number. This way, we can scrape info on top repos for all the topics of GitHub."
   ]
  }
 ],
 "metadata": {
  "kernelspec": {
   "display_name": "Python 3 (ipykernel)",
   "language": "python",
   "name": "python3"
  },
  "language_info": {
   "codemirror_mode": {
    "name": "ipython",
    "version": 3
   },
   "file_extension": ".py",
   "mimetype": "text/x-python",
   "name": "python",
   "nbconvert_exporter": "python",
   "pygments_lexer": "ipython3",
   "version": "3.9.7"
  }
 },
 "nbformat": 4,
 "nbformat_minor": 5
}
