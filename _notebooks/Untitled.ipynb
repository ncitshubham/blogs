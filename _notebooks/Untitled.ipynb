{
 "cells": [
  {
   "cell_type": "code",
   "execution_count": 2,
   "id": "17067b70",
   "metadata": {},
   "outputs": [
    {
     "data": {
      "text/plain": [
       "468"
      ]
     },
     "execution_count": 2,
     "metadata": {},
     "output_type": "execute_result"
    }
   ],
   "source": [
    "# is this visible\n",
    "# is this visible\n",
    "# is this visible\n",
    "234+234"
   ]
  },
  {
   "cell_type": "code",
   "execution_count": 3,
   "id": "b2c9dbe9",
   "metadata": {},
   "outputs": [
    {
     "data": {
      "text/plain": [
       "258"
      ]
     },
     "execution_count": 3,
     "metadata": {},
     "output_type": "execute_result"
    }
   ],
   "source": [
    "# is this visible\n",
    "## is this visible\n",
    "## is this visible\n",
    "234 + 24"
   ]
  },
  {
   "cell_type": "code",
   "execution_count": 5,
   "id": "359556a5",
   "metadata": {},
   "outputs": [
    {
     "data": {
      "text/plain": [
       "258"
      ]
     },
     "execution_count": 5,
     "metadata": {},
     "output_type": "execute_result"
    }
   ],
   "source": [
    "# is this visible\n",
    "\n",
    "# is this visible\n",
    "# is this visible\n",
    "24 + 234"
   ]
  },
  {
   "cell_type": "code",
   "execution_count": 7,
   "id": "ce92bc44",
   "metadata": {},
   "outputs": [
    {
     "data": {
      "text/plain": [
       "258"
      ]
     },
     "execution_count": 7,
     "metadata": {},
     "output_type": "execute_result"
    }
   ],
   "source": [
    "## is this visible\n",
    "## is this visible\n",
    "24 + 234"
   ]
  },
  {
   "cell_type": "code",
   "execution_count": 8,
   "id": "41d441d7",
   "metadata": {},
   "outputs": [
    {
     "data": {
      "text/plain": [
       "32"
      ]
     },
     "execution_count": 8,
     "metadata": {},
     "output_type": "execute_result"
    }
   ],
   "source": [
    "\n",
    "## is this visible\n",
    "## is this visible\n",
    "### is this visible\n",
    "24 + 8"
   ]
  },
  {
   "cell_type": "code",
   "execution_count": 9,
   "id": "60208387",
   "metadata": {},
   "outputs": [
    {
     "data": {
      "text/plain": [
       "579"
      ]
     },
     "execution_count": 9,
     "metadata": {},
     "output_type": "execute_result"
    }
   ],
   "source": [
    "### is this visible\n",
    "# is this visible\n",
    "234 + 345"
   ]
  },
  {
   "cell_type": "code",
   "execution_count": 10,
   "id": "659a41d1",
   "metadata": {},
   "outputs": [
    {
     "data": {
      "text/plain": [
       "258"
      ]
     },
     "execution_count": 10,
     "metadata": {},
     "output_type": "execute_result"
    }
   ],
   "source": [
    "\n",
    "# is this visible\n",
    "# is this visible\n",
    "24 + 234\n",
    "# is this visible"
   ]
  },
  {
   "cell_type": "code",
   "execution_count": 11,
   "id": "086a5649",
   "metadata": {},
   "outputs": [
    {
     "data": {
      "text/plain": [
       "468"
      ]
     },
     "execution_count": 11,
     "metadata": {},
     "output_type": "execute_result"
    }
   ],
   "source": [
    "\n",
    "# is this visible\n",
    "234 + 234\n",
    "## is this visible"
   ]
  },
  {
   "cell_type": "markdown",
   "id": "62ae2d31",
   "metadata": {},
   "source": [
    "**Bold**\n",
    "\n",
    "*italic*\n",
    "\n",
    "__bold??__sdfsd__sf sf __ sfsf\n",
    "\n",
    "### level 3\n",
    "\n",
    "#### level 4\n"
   ]
  },
  {
   "cell_type": "code",
   "execution_count": null,
   "id": "1eeb38aa",
   "metadata": {},
   "outputs": [],
   "source": []
  }
 ],
 "metadata": {
  "kernelspec": {
   "display_name": "Python 3 (ipykernel)",
   "language": "python",
   "name": "python3"
  },
  "language_info": {
   "codemirror_mode": {
    "name": "ipython",
    "version": 3
   },
   "file_extension": ".py",
   "mimetype": "text/x-python",
   "name": "python",
   "nbconvert_exporter": "python",
   "pygments_lexer": "ipython3",
   "version": "3.9.7"
  }
 },
 "nbformat": 4,
 "nbformat_minor": 5
}
