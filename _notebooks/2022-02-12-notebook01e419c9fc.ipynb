{
 "cells": [
  {
   "cell_type": "code",
   "execution_count": 1,
   "metadata": {
    "execution": {
     "iopub.execute_input": "2022-03-20T17:43:01.832899Z",
     "iopub.status.busy": "2022-03-20T17:43:01.832376Z",
     "iopub.status.idle": "2022-03-20T17:43:01.861118Z",
     "shell.execute_reply": "2022-03-20T17:43:01.860583Z",
     "shell.execute_reply.started": "2022-03-20T17:43:01.832797Z"
    }
   },
   "outputs": [
    {
     "name": "stdout",
     "output_type": "stream",
     "text": [
      "hellooooo\n"
     ]
    }
   ],
   "source": [
    "print(\"hellooooo\")"
   ]
  },
  {
   "cell_type": "code",
   "execution_count": 2,
   "metadata": {
    "execution": {
     "iopub.execute_input": "2022-03-20T17:43:08.188646Z",
     "iopub.status.busy": "2022-03-20T17:43:08.188173Z",
     "iopub.status.idle": "2022-03-20T17:43:08.196241Z",
     "shell.execute_reply": "2022-03-20T17:43:08.195522Z",
     "shell.execute_reply.started": "2022-03-20T17:43:08.188620Z"
    }
   },
   "outputs": [
    {
     "data": {
      "text/plain": [
       "'C:\\\\Users\\\\ncits\\\\Downloads'"
      ]
     },
     "execution_count": 2,
     "metadata": {},
     "output_type": "execute_result"
    }
   ],
   "source": [
    "import os\n",
    "os.getcwd()"
   ]
  },
  {
   "cell_type": "code",
   "execution_count": null,
   "metadata": {},
   "outputs": [],
   "source": []
  }
 ],
 "metadata": {
  "kernelspec": {
   "display_name": "Python 3 (ipykernel)",
   "language": "python",
   "name": "python3"
  },
  "language_info": {
   "codemirror_mode": {
    "name": "ipython",
    "version": 3
   },
   "file_extension": ".py",
   "mimetype": "text/x-python",
   "name": "python",
   "nbconvert_exporter": "python",
   "pygments_lexer": "ipython3",
   "version": "3.9.7"
  }
 },
 "nbformat": 4,
 "nbformat_minor": 4
}
