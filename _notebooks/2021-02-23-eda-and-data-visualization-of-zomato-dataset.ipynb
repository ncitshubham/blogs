{
 "cells": [
  {
   "cell_type": "markdown",
   "metadata": {},
   "source": [
    "# \"EDA and Data Visualization of Zomato Dataset\"\n",
    "> \"Part 1 of two-part project on Zomato Data\"\n",
    "- toc: true\n",
    "- badges: true"
   ]
  },
  {
   "cell_type": "markdown",
   "metadata": {},
   "source": [
    "## Introduction"
   ]
  },
  {
   "cell_type": "markdown",
   "metadata": {},
   "source": [
    "[Note: This notebook was originally published on Kaggle [here]()]\n",
    "\n",
    "Zomato is an Indian multinational restaurant aggregator and food delivery company. In this project, we're going to study and analyze the [Zomato Dataset](https://www.kaggle.com/himanshupoddar/zomato-bangalore-restaurants) shared by [Himanshu Podder](https://www.kaggle.com/himanshupoddar) on Kaggle. This dataset contains information on restaurants in the city of Bengaluru, India. We can use this dataset to get an idea of different factors affecting the restaurants in different parts of the city and also answer questions like which type of food is most popular in the city, how does the location of the restuarant affects its rating on the Zomato platform, and what relation does the rating of the restaurant and the number of cuisines it offers has?\n",
    "\n",
    "We will use the approach of Exploratory Data Analysis (EDA) for studying this data, which is used to analyse datasets to summarize their main characteristics, often using statistical graphics and other data visualization methods. EDA can help in seeing what the data can tell us beyond the formal modeling or hypothesis testing task.[<sup>3 </sup>](https://en.wikipedia.org/wiki/Exploratory_data_analysis#:~:text=In%20statistics%2C%20exploratory,hypothesis%20testing%20task) \n",
    "\n",
    "The dataset can be used to answer a lot of questions but for this project, we are going to limit ourselves to 5-10 questions and then try to answer these questions."
   ]
  },
  {
   "cell_type": "markdown",
   "metadata": {},
   "source": [
    "## Setup\n",
    "\n",
    "Import the required libraries and get the file path."
   ]
  },
  {
   "cell_type": "code",
   "execution_count": 2,
   "metadata": {
    "_cell_guid": "b1076dfc-b9ad-4769-8c92-a6c4dae69d19",
    "_uuid": "8f2839f25d086af736a60e9eeb907d3b93b6e0e5",
    "execution": {
     "iopub.execute_input": "2022-03-03T13:59:46.470137Z",
     "iopub.status.busy": "2022-03-03T13:59:46.469286Z",
     "iopub.status.idle": "2022-03-03T13:59:47.466104Z",
     "shell.execute_reply": "2022-03-03T13:59:47.465282Z",
     "shell.execute_reply.started": "2022-03-03T13:59:46.470083Z"
    }
   },
   "outputs": [],
   "source": [
    "import numpy as np # linear algebra\n",
    "import pandas as pd # data processing, CSV file I/O (e.g. pd.read_csv)\n",
    "import matplotlib.pyplot as plt # Data Visualization\n",
    "import seaborn as sns # Data Visualization\n",
    "\n",
    "import os\n",
    "for dirname, _, filenames in os.walk('/kaggle/input'):\n",
    "    for filename in filenames:\n",
    "        print(os.path.join(dirname, filename))"
   ]
  },
  {
   "cell_type": "code",
   "execution_count": 3,
   "metadata": {
    "execution": {
     "iopub.execute_input": "2022-03-03T13:59:47.467783Z",
     "iopub.status.busy": "2022-03-03T13:59:47.467540Z",
     "iopub.status.idle": "2022-03-03T13:59:59.538194Z",
     "shell.execute_reply": "2022-03-03T13:59:59.537155Z",
     "shell.execute_reply.started": "2022-03-03T13:59:47.467755Z"
    }
   },
   "outputs": [],
   "source": [
    "# Read the csv file into a pandas DataFrame\n",
    "file_path = \"/kaggle/input/zomato-bangalore-restaurants/zomato.csv\"\n",
    "df = pd.read_csv(file_path, thousands = ',') # the thousands parameter helps to remove commas from numeric values."
   ]
  },
  {
   "cell_type": "markdown",
   "metadata": {},
   "source": [
    "## Data Preparation and Cleaning"
   ]
  },
  {
   "cell_type": "markdown",
   "metadata": {},
   "source": [
    "### Premilinary Analysis\n",
    "Evaluate the structure of the dataset"
   ]
  },
  {
   "cell_type": "code",
   "execution_count": 4,
   "metadata": {
    "execution": {
     "iopub.execute_input": "2022-03-03T13:59:59.539717Z",
     "iopub.status.busy": "2022-03-03T13:59:59.539372Z",
     "iopub.status.idle": "2022-03-03T13:59:59.571524Z",
     "shell.execute_reply": "2022-03-03T13:59:59.570714Z",
     "shell.execute_reply.started": "2022-03-03T13:59:59.539683Z"
    }
   },
   "outputs": [],
   "source": [
    "df.head()"
   ]
  },
  {
   "cell_type": "code",
   "execution_count": 5,
   "metadata": {
    "execution": {
     "iopub.execute_input": "2022-03-03T13:59:59.573519Z",
     "iopub.status.busy": "2022-03-03T13:59:59.573250Z",
     "iopub.status.idle": "2022-03-03T13:59:59.688213Z",
     "shell.execute_reply": "2022-03-03T13:59:59.687229Z",
     "shell.execute_reply.started": "2022-03-03T13:59:59.573491Z"
    }
   },
   "outputs": [],
   "source": [
    "df.info()"
   ]
  },
  {
   "cell_type": "markdown",
   "metadata": {},
   "source": [
    "### Change the structure\n",
    "We'll drop the columns which don't inform us much about the restuarants."
   ]
  },
  {
   "cell_type": "code",
   "execution_count": 6,
   "metadata": {
    "execution": {
     "iopub.execute_input": "2022-03-03T13:59:59.690152Z",
     "iopub.status.busy": "2022-03-03T13:59:59.689638Z",
     "iopub.status.idle": "2022-03-03T13:59:59.705247Z",
     "shell.execute_reply": "2022-03-03T13:59:59.704425Z",
     "shell.execute_reply.started": "2022-03-03T13:59:59.690102Z"
    }
   },
   "outputs": [],
   "source": [
    "df.drop([\"url\", \"name\", \"phone\", \"reviews_list\", \"address\", \"menu_item\"], axis = 1, inplace = True)\n",
    "df.columns"
   ]
  },
  {
   "cell_type": "markdown",
   "metadata": {},
   "source": [
    " We'll also rename some of the columns."
   ]
  },
  {
   "cell_type": "code",
   "execution_count": 7,
   "metadata": {
    "execution": {
     "iopub.execute_input": "2022-03-03T13:59:59.706982Z",
     "iopub.status.busy": "2022-03-03T13:59:59.706776Z",
     "iopub.status.idle": "2022-03-03T13:59:59.718686Z",
     "shell.execute_reply": "2022-03-03T13:59:59.717637Z",
     "shell.execute_reply.started": "2022-03-03T13:59:59.706957Z"
    }
   },
   "outputs": [],
   "source": [
    "df.rename(mapper = {\"listed_in(type)\": \"type\", \"approx_cost(for two people)\": \"cost_for_two_people\", \"rate\": \"rating\"}, axis = 1, inplace = True)\n",
    "df.columns"
   ]
  },
  {
   "cell_type": "markdown",
   "metadata": {},
   "source": [
    "### Correcting datatypes\n",
    "Now we'll look at the dtypes of the DataFrame and see if that needs any change."
   ]
  },
  {
   "cell_type": "code",
   "execution_count": 8,
   "metadata": {
    "execution": {
     "iopub.execute_input": "2022-03-03T13:59:59.720347Z",
     "iopub.status.busy": "2022-03-03T13:59:59.720113Z",
     "iopub.status.idle": "2022-03-03T13:59:59.730282Z",
     "shell.execute_reply": "2022-03-03T13:59:59.729601Z",
     "shell.execute_reply.started": "2022-03-03T13:59:59.720322Z"
    }
   },
   "outputs": [],
   "source": [
    "df.dtypes"
   ]
  },
  {
   "cell_type": "markdown",
   "metadata": {},
   "source": [
    "We need to change the `rating` column to numeric dtype."
   ]
  },
  {
   "cell_type": "code",
   "execution_count": 9,
   "metadata": {
    "execution": {
     "iopub.execute_input": "2022-03-03T13:59:59.732015Z",
     "iopub.status.busy": "2022-03-03T13:59:59.731702Z",
     "iopub.status.idle": "2022-03-03T13:59:59.748635Z",
     "shell.execute_reply": "2022-03-03T13:59:59.747763Z",
     "shell.execute_reply.started": "2022-03-03T13:59:59.731897Z"
    }
   },
   "outputs": [],
   "source": [
    "# All distinct values in the `rating` column\n",
    "df.rating.unique()"
   ]
  },
  {
   "cell_type": "code",
   "execution_count": 10,
   "metadata": {
    "execution": {
     "iopub.execute_input": "2022-03-03T13:59:59.750052Z",
     "iopub.status.busy": "2022-03-03T13:59:59.749826Z",
     "iopub.status.idle": "2022-03-03T13:59:59.834762Z",
     "shell.execute_reply": "2022-03-03T13:59:59.834132Z",
     "shell.execute_reply.started": "2022-03-03T13:59:59.750025Z"
    }
   },
   "outputs": [],
   "source": [
    "# Remove the non-desired values from the rating column\n",
    "df = df.loc[df.rating != \"NEW\"]\n",
    "df = df.loc[df.rating != \"-\"]\n",
    "# Select the first 3 characters and convert the column to numeric\n",
    "df.rating = pd.to_numeric(df.rating.str[:3])"
   ]
  },
  {
   "cell_type": "code",
   "execution_count": 11,
   "metadata": {
    "execution": {
     "iopub.execute_input": "2022-03-03T13:59:59.837538Z",
     "iopub.status.busy": "2022-03-03T13:59:59.837190Z",
     "iopub.status.idle": "2022-03-03T13:59:59.844146Z",
     "shell.execute_reply": "2022-03-03T13:59:59.843207Z",
     "shell.execute_reply.started": "2022-03-03T13:59:59.837510Z"
    }
   },
   "outputs": [],
   "source": [
    "df.rating.head()"
   ]
  },
  {
   "cell_type": "markdown",
   "metadata": {},
   "source": [
    "### Deal with null values"
   ]
  },
  {
   "cell_type": "code",
   "execution_count": 12,
   "metadata": {
    "execution": {
     "iopub.execute_input": "2022-03-03T13:59:59.845739Z",
     "iopub.status.busy": "2022-03-03T13:59:59.845492Z",
     "iopub.status.idle": "2022-03-03T13:59:59.899134Z",
     "shell.execute_reply": "2022-03-03T13:59:59.898325Z",
     "shell.execute_reply.started": "2022-03-03T13:59:59.845712Z"
    }
   },
   "outputs": [],
   "source": [
    "# Number of null values\n",
    "df.isnull().sum().sort_values(ascending = False)"
   ]
  },
  {
   "cell_type": "markdown",
   "metadata": {},
   "source": [
    "It appears that in all the columns with null values, absence of values neither indicates the value of zero nor informs us on something useful. Thus, it's better to drop the rows with null values.\n",
    "In the `dish_liked` column, because the null values account for about half of the data, it's better to drop the whole column."
   ]
  },
  {
   "cell_type": "code",
   "execution_count": 13,
   "metadata": {
    "execution": {
     "iopub.execute_input": "2022-03-03T13:59:59.900915Z",
     "iopub.status.busy": "2022-03-03T13:59:59.900622Z",
     "iopub.status.idle": "2022-03-03T13:59:59.978869Z",
     "shell.execute_reply": "2022-03-03T13:59:59.978009Z",
     "shell.execute_reply.started": "2022-03-03T13:59:59.900875Z"
    }
   },
   "outputs": [],
   "source": [
    "df.dropna(subset = [\"location\", \"rating\", \"rest_type\", \"cuisines\", \"cost_for_two_people\"], inplace = True)\n",
    "df.drop([\"dish_liked\"], axis = 1, inplace = True)\n",
    "df.info()"
   ]
  },
  {
   "cell_type": "code",
   "execution_count": 14,
   "metadata": {
    "execution": {
     "iopub.execute_input": "2022-03-03T13:59:59.980029Z",
     "iopub.status.busy": "2022-03-03T13:59:59.979845Z",
     "iopub.status.idle": "2022-03-03T13:59:59.994368Z",
     "shell.execute_reply": "2022-03-03T13:59:59.993780Z",
     "shell.execute_reply.started": "2022-03-03T13:59:59.980007Z"
    }
   },
   "outputs": [],
   "source": [
    "df.head()"
   ]
  },
  {
   "cell_type": "markdown",
   "metadata": {},
   "source": [
    "### Extras\n",
    "We'll also convert the values in `rest_type` and `cuisines` columns to lists."
   ]
  },
  {
   "cell_type": "code",
   "execution_count": 15,
   "metadata": {
    "execution": {
     "iopub.execute_input": "2022-03-03T13:59:59.995652Z",
     "iopub.status.busy": "2022-03-03T13:59:59.995319Z",
     "iopub.status.idle": "2022-03-03T14:00:00.203611Z",
     "shell.execute_reply": "2022-03-03T14:00:00.202758Z",
     "shell.execute_reply.started": "2022-03-03T13:59:59.995624Z"
    }
   },
   "outputs": [],
   "source": [
    "df.cuisines = df.cuisines.str.split(\",\")\n",
    "df.rest_type = df.rest_type.str.split(\",\")"
   ]
  },
  {
   "cell_type": "code",
   "execution_count": 16,
   "metadata": {
    "execution": {
     "iopub.execute_input": "2022-03-03T14:00:00.206147Z",
     "iopub.status.busy": "2022-03-03T14:00:00.205567Z",
     "iopub.status.idle": "2022-03-03T14:00:00.226105Z",
     "shell.execute_reply": "2022-03-03T14:00:00.224873Z",
     "shell.execute_reply.started": "2022-03-03T14:00:00.206099Z"
    }
   },
   "outputs": [],
   "source": [
    "df.head()"
   ]
  },
  {
   "cell_type": "markdown",
   "metadata": {},
   "source": [
    "## Exploratory Analysis and Visualization\n",
    "\n",
    "**With these columns in mind, we will try to answer the following questions from the dataset:**\n",
    "\n",
    "1. What locations are most popular for restaurants in Benagluru?\n",
    "2. Which locations have the best rated restaurants?\n",
    "3. What relation does the rating and number of votes that a restaurant receives have? What about table booking and online order facility?\n",
    "4. Is a restaurant which offers online order facility rated better?\n",
    "5. Are restaurants offering expensive food rated better? Does a table booking facility make a difference?\n",
    "6. Does the number of cuisines that a restaurant provides have a relation to the rating it recieves?\n",
    "7. How do Casual Dining and Fine Dining restaurants differ in their rating?\n",
    "8. How do Casual Dining and Fine Dining restaurants differ in their cost_for_two_people?\n",
    "9. What are the number of different types of restaurants?"
   ]
  },
  {
   "cell_type": "markdown",
   "metadata": {},
   "source": [
    "### Q1. What locations are most popular for restaurants in Benagluru?"
   ]
  },
  {
   "cell_type": "code",
   "execution_count": 17,
   "metadata": {
    "execution": {
     "iopub.execute_input": "2022-03-03T14:00:00.228128Z",
     "iopub.status.busy": "2022-03-03T14:00:00.227818Z",
     "iopub.status.idle": "2022-03-03T14:00:00.246721Z",
     "shell.execute_reply": "2022-03-03T14:00:00.245898Z",
     "shell.execute_reply.started": "2022-03-03T14:00:00.228085Z"
    }
   },
   "outputs": [],
   "source": [
    "popular_locations = df.location.value_counts().head(15)\n",
    "popular_locations"
   ]
  },
  {
   "cell_type": "code",
   "execution_count": 18,
   "metadata": {
    "execution": {
     "iopub.execute_input": "2022-03-03T14:00:00.248128Z",
     "iopub.status.busy": "2022-03-03T14:00:00.247821Z",
     "iopub.status.idle": "2022-03-03T14:00:00.615222Z",
     "shell.execute_reply": "2022-03-03T14:00:00.613297Z",
     "shell.execute_reply.started": "2022-03-03T14:00:00.248102Z"
    }
   },
   "outputs": [],
   "source": [
    "plt.figure(figsize = (10, 8))\n",
    "sns.barplot(x = popular_locations, y = popular_locations.index)"
   ]
  },
  {
   "cell_type": "markdown",
   "metadata": {},
   "source": [
    "The 5 most popular locations for restaurants are BTM, Koramangala 5th Block, HSR, Indiranagar, and JP Nagar, with BTM boasting of nearly 4000 eateries."
   ]
  },
  {
   "cell_type": "markdown",
   "metadata": {},
   "source": [
    "### Q2. Which locations have the best rated restaurants?\n",
    "\n",
    "(We'll select only those locations which have a minimum of 50 restaurants.)"
   ]
  },
  {
   "cell_type": "code",
   "execution_count": 19,
   "metadata": {
    "execution": {
     "iopub.execute_input": "2022-03-03T14:00:00.616703Z",
     "iopub.status.busy": "2022-03-03T14:00:00.616471Z",
     "iopub.status.idle": "2022-03-03T14:00:00.637400Z",
     "shell.execute_reply": "2022-03-03T14:00:00.636751Z",
     "shell.execute_reply.started": "2022-03-03T14:00:00.616677Z"
    }
   },
   "outputs": [],
   "source": [
    "# groupby location and get the count of each location along with the average rating of restaurants in that location.\n",
    "location_rating = df.groupby(by = [\"location\"])[\"rating\"].agg([\"count\", \"mean\"])\n",
    "location_rating.head()"
   ]
  },
  {
   "cell_type": "code",
   "execution_count": 20,
   "metadata": {
    "execution": {
     "iopub.execute_input": "2022-03-03T14:00:00.639776Z",
     "iopub.status.busy": "2022-03-03T14:00:00.639424Z",
     "iopub.status.idle": "2022-03-03T14:00:00.650228Z",
     "shell.execute_reply": "2022-03-03T14:00:00.649697Z",
     "shell.execute_reply.started": "2022-03-03T14:00:00.639749Z"
    }
   },
   "outputs": [],
   "source": [
    "# select the locations with 50 minimumn eateries and then sort them by their rating.\n",
    "rated_locations = location_rating.loc[location_rating[\"count\"] >= 50].sort_values(by = \"mean\", ascending = False)\n",
    "# select the top 20 locations.\n",
    "top20_rated_locations = rated_locations[:20]\n",
    "top20_rated_locations.head()"
   ]
  },
  {
   "cell_type": "code",
   "execution_count": 21,
   "metadata": {
    "execution": {
     "iopub.execute_input": "2022-03-03T14:00:00.651620Z",
     "iopub.status.busy": "2022-03-03T14:00:00.651279Z",
     "iopub.status.idle": "2022-03-03T14:00:01.003538Z",
     "shell.execute_reply": "2022-03-03T14:00:01.002938Z",
     "shell.execute_reply.started": "2022-03-03T14:00:00.651586Z"
    }
   },
   "outputs": [],
   "source": [
    "plt.figure(figsize = (15, 5))\n",
    "sns.barplot(x = top20_rated_locations.index, y = top20_rated_locations[\"mean\"])\n",
    "plt.xticks(rotation = 45)\n",
    "plt.ylim(3.5, 4.3)\n",
    "plt.show()"
   ]
  },
  {
   "cell_type": "markdown",
   "metadata": {},
   "source": [
    "These are the top 20 locations in Bengaluru based on the eatries' ratings. The average rating in these locations range from 4.14 and 3.8."
   ]
  },
  {
   "cell_type": "markdown",
   "metadata": {},
   "source": [
    "### Q3. What relation does the rating and number of votes that a restaurant receives have? What about table booking and online order facility?"
   ]
  },
  {
   "cell_type": "code",
   "execution_count": 22,
   "metadata": {
    "execution": {
     "iopub.execute_input": "2022-03-03T14:00:01.004975Z",
     "iopub.status.busy": "2022-03-03T14:00:01.004651Z",
     "iopub.status.idle": "2022-03-03T14:00:03.521490Z",
     "shell.execute_reply": "2022-03-03T14:00:03.520742Z",
     "shell.execute_reply.started": "2022-03-03T14:00:01.004937Z"
    }
   },
   "outputs": [],
   "source": [
    "# Relationship between `rating`, `votes` and `book_table`\n",
    "plt.figure(figsize = (8, 5))\n",
    "sns.scatterplot(x = \"rating\", y = \"votes\", hue = \"book_table\", data = df, s = 40)"
   ]
  },
  {
   "cell_type": "markdown",
   "metadata": {},
   "source": [
    "The number of votes look to be directly correlated with the rating of the restaurant, and they look to increase exponentially with the rating after a critical point. This is to be expected because better restaurants would atrract more customers and thus more votes. \n",
    "\n",
    "Also, the restaurants which don't provide booking facility are clustered in low ratings and less number of votes. In other words, more popular restaurants with high ratings are more likely to offer table booking facility, which can also be seen the following graph."
   ]
  },
  {
   "cell_type": "code",
   "execution_count": 23,
   "metadata": {
    "execution": {
     "iopub.execute_input": "2022-03-03T14:00:03.522638Z",
     "iopub.status.busy": "2022-03-03T14:00:03.522426Z",
     "iopub.status.idle": "2022-03-03T14:00:03.755792Z",
     "shell.execute_reply": "2022-03-03T14:00:03.754973Z",
     "shell.execute_reply.started": "2022-03-03T14:00:03.522613Z"
    }
   },
   "outputs": [],
   "source": [
    "sns.boxplot(x = \"book_table\", y = \"rating\", data = df)"
   ]
  },
  {
   "cell_type": "markdown",
   "metadata": {},
   "source": [
    "Now, we can look at the scatterplot for `rating`, `votes` and `online_order`"
   ]
  },
  {
   "cell_type": "code",
   "execution_count": 24,
   "metadata": {
    "execution": {
     "iopub.execute_input": "2022-03-03T14:00:03.757328Z",
     "iopub.status.busy": "2022-03-03T14:00:03.757098Z",
     "iopub.status.idle": "2022-03-03T14:00:06.258374Z",
     "shell.execute_reply": "2022-03-03T14:00:06.257430Z",
     "shell.execute_reply.started": "2022-03-03T14:00:03.757302Z"
    }
   },
   "outputs": [],
   "source": [
    "# Relationship between `rating`, `votes` and `online_order`\n",
    "plt.figure(figsize = (8, 5))\n",
    "sns.scatterplot(x = \"rating\", y = \"votes\", hue = \"online_order\", data = df, s = 40)"
   ]
  },
  {
   "cell_type": "markdown",
   "metadata": {},
   "source": [
    "The data points for online order facility are scattered in the graph, and thus the data doesn't reveal any relationship between these variables. But, it may be worth exploring its relationship with the `votes` and the `rating` individually, which we'll do in the following sections."
   ]
  },
  {
   "cell_type": "markdown",
   "metadata": {},
   "source": [
    "### Q4. Is a restaurant which offers online order facility rated better?"
   ]
  },
  {
   "cell_type": "code",
   "execution_count": 25,
   "metadata": {
    "execution": {
     "iopub.execute_input": "2022-03-03T14:00:06.260284Z",
     "iopub.status.busy": "2022-03-03T14:00:06.260015Z",
     "iopub.status.idle": "2022-03-03T14:00:06.688322Z",
     "shell.execute_reply": "2022-03-03T14:00:06.687641Z",
     "shell.execute_reply.started": "2022-03-03T14:00:06.260255Z"
    }
   },
   "outputs": [],
   "source": [
    "sns.violinplot(x = \"online_order\", y = \"rating\", data = df)"
   ]
  },
  {
   "cell_type": "markdown",
   "metadata": {},
   "source": [
    "As discussed in the previous question, the rating doesn't seem to be any different between the restaurants which offer `online order` facility and which don't."
   ]
  },
  {
   "cell_type": "markdown",
   "metadata": {},
   "source": [
    "### Q5. Are restaurants offering expensive food rated better? Does a table booking facility make a difference?"
   ]
  },
  {
   "cell_type": "code",
   "execution_count": 26,
   "metadata": {
    "execution": {
     "iopub.execute_input": "2022-03-03T14:00:06.690356Z",
     "iopub.status.busy": "2022-03-03T14:00:06.689628Z",
     "iopub.status.idle": "2022-03-03T14:00:08.960457Z",
     "shell.execute_reply": "2022-03-03T14:00:08.959618Z",
     "shell.execute_reply.started": "2022-03-03T14:00:06.690312Z"
    }
   },
   "outputs": [],
   "source": [
    "plt.figure(figsize = (8, 5))\n",
    "sns.scatterplot(x = \"rating\", y = \"cost_for_two_people\", data = df, hue = 'book_table')"
   ]
  },
  {
   "cell_type": "markdown",
   "metadata": {},
   "source": [
    "Although there are hints of an exponential relationship between the cost for two people and the rating of a restaurant, most of the data is clustered in low cost, and thus because of lack of data points for expensive restaurants, the data is inconclusive for this relations. But we can study `book table` facility individuallly with the `cost for two people`, where restaurants which offer `book_table` facility seem to be more expensive than restaurants which don't."
   ]
  },
  {
   "cell_type": "code",
   "execution_count": 27,
   "metadata": {
    "execution": {
     "iopub.execute_input": "2022-03-03T14:00:08.962703Z",
     "iopub.status.busy": "2022-03-03T14:00:08.962064Z",
     "iopub.status.idle": "2022-03-03T14:00:09.201379Z",
     "shell.execute_reply": "2022-03-03T14:00:09.200513Z",
     "shell.execute_reply.started": "2022-03-03T14:00:08.962655Z"
    }
   },
   "outputs": [],
   "source": [
    "sns.boxplot(x = \"book_table\", y = \"cost_for_two_people\", data = df)"
   ]
  },
  {
   "cell_type": "markdown",
   "metadata": {},
   "source": [
    "This graph also supports the idea that table booking is correlated with the cost for two people."
   ]
  },
  {
   "cell_type": "markdown",
   "metadata": {},
   "source": [
    "### Q6. Does the number of cuisines that a restaurant provides have a relation to the rating it recieves?"
   ]
  },
  {
   "cell_type": "markdown",
   "metadata": {},
   "source": [
    "The cuisines column shows the all the cuisines that a restaurant offers. We can add column to the DataFrame to store the number of cuisines that a restaurant offers."
   ]
  },
  {
   "cell_type": "code",
   "execution_count": 28,
   "metadata": {
    "execution": {
     "iopub.execute_input": "2022-03-03T14:00:09.203600Z",
     "iopub.status.busy": "2022-03-03T14:00:09.202695Z",
     "iopub.status.idle": "2022-03-03T14:00:09.243780Z",
     "shell.execute_reply": "2022-03-03T14:00:09.242952Z",
     "shell.execute_reply.started": "2022-03-03T14:00:09.203534Z"
    }
   },
   "outputs": [],
   "source": [
    "df[\"no_of_cuisines\"] = df.cuisines.str.len()\n",
    "df[\"no_of_cuisines\"].head()"
   ]
  },
  {
   "cell_type": "code",
   "execution_count": 29,
   "metadata": {
    "execution": {
     "iopub.execute_input": "2022-03-03T14:00:09.249929Z",
     "iopub.status.busy": "2022-03-03T14:00:09.249689Z",
     "iopub.status.idle": "2022-03-03T14:00:09.973908Z",
     "shell.execute_reply": "2022-03-03T14:00:09.972922Z",
     "shell.execute_reply.started": "2022-03-03T14:00:09.249903Z"
    }
   },
   "outputs": [],
   "source": [
    "plt.figure(figsize = (8, 5))\n",
    "sns.stripplot(x = \"no_of_cuisines\", y = \"rating\", data = df)"
   ]
  },
  {
   "cell_type": "markdown",
   "metadata": {
    "execution": {
     "iopub.execute_input": "2022-03-03T12:11:19.436579Z",
     "iopub.status.busy": "2022-03-03T12:11:19.436250Z",
     "iopub.status.idle": "2022-03-03T12:11:19.465993Z",
     "shell.execute_reply": "2022-03-03T12:11:19.464299Z",
     "shell.execute_reply.started": "2022-03-03T12:11:19.436543Z"
    }
   },
   "source": [
    "The rating seems to become more concentrated towards mean as the no. of cuisines that a restaurant offers goes up. But, this could also be a artifact of low no. of restaurants offering higher no. of cuisines. In general, the mean of rating also seems to go up with the increase in no. of cuisines, but the graph is inconclusive.\n",
    "We'll explore this more in the boxplot."
   ]
  },
  {
   "cell_type": "code",
   "execution_count": 30,
   "metadata": {
    "execution": {
     "iopub.execute_input": "2022-03-03T14:00:09.975390Z",
     "iopub.status.busy": "2022-03-03T14:00:09.975161Z",
     "iopub.status.idle": "2022-03-03T14:00:10.448008Z",
     "shell.execute_reply": "2022-03-03T14:00:10.447275Z",
     "shell.execute_reply.started": "2022-03-03T14:00:09.975361Z"
    }
   },
   "outputs": [],
   "source": [
    "sns.boxplot(x = \"no_of_cuisines\", y = \"rating\", data = df)"
   ]
  },
  {
   "cell_type": "markdown",
   "metadata": {},
   "source": [
    "This graph reflects the relationship better and does support the idea that restaurants offering more no of cuisines are usually rated better."
   ]
  },
  {
   "cell_type": "markdown",
   "metadata": {},
   "source": [
    "### Q7. How do Casual Dining and Fine Dining restaurants differ in their `cost_for_two_people`?"
   ]
  },
  {
   "cell_type": "code",
   "execution_count": 69,
   "metadata": {
    "execution": {
     "iopub.execute_input": "2022-03-03T14:10:46.528226Z",
     "iopub.status.busy": "2022-03-03T14:10:46.527946Z",
     "iopub.status.idle": "2022-03-03T14:10:46.547999Z",
     "shell.execute_reply": "2022-03-03T14:10:46.547105Z",
     "shell.execute_reply.started": "2022-03-03T14:10:46.528197Z"
    }
   },
   "outputs": [],
   "source": [
    "#Look at the dataframe\n",
    "df.head()"
   ]
  },
  {
   "cell_type": "markdown",
   "metadata": {},
   "source": [
    "We'll need to explode the `rest_type` column to extract information."
   ]
  },
  {
   "cell_type": "code",
   "execution_count": 72,
   "metadata": {
    "execution": {
     "iopub.execute_input": "2022-03-03T14:19:10.922263Z",
     "iopub.status.busy": "2022-03-03T14:19:10.922010Z",
     "iopub.status.idle": "2022-03-03T14:19:11.016303Z",
     "shell.execute_reply": "2022-03-03T14:19:11.015371Z",
     "shell.execute_reply.started": "2022-03-03T14:19:10.922237Z"
    }
   },
   "outputs": [],
   "source": [
    "#extract information from `rest_type` column\n",
    "rest_type_exploded = df.explode(column = \"rest_type\")\n",
    "rest_type_exploded[\"rest_type\"] = rest_type_exploded[\"rest_type\"].str.strip()\n",
    "rest_type_exploded.head()"
   ]
  },
  {
   "cell_type": "code",
   "execution_count": 87,
   "metadata": {
    "execution": {
     "iopub.execute_input": "2022-03-03T14:53:40.181049Z",
     "iopub.status.busy": "2022-03-03T14:53:40.180401Z",
     "iopub.status.idle": "2022-03-03T14:53:40.207259Z",
     "shell.execute_reply": "2022-03-03T14:53:40.206580Z",
     "shell.execute_reply.started": "2022-03-03T14:53:40.181011Z"
    }
   },
   "outputs": [],
   "source": [
    "#separate data for casual dining restaurants and fine dining restaurants.\n",
    "fine_dining_rest = rest_type_exploded.loc[rest_type_exploded.rest_type == \"Fine Dining\"]\n",
    "casual_dining_rest = rest_type_exploded.loc[rest_type_exploded.rest_type == \"Casual Dining\"]"
   ]
  },
  {
   "cell_type": "code",
   "execution_count": 95,
   "metadata": {
    "execution": {
     "iopub.execute_input": "2022-03-03T14:57:31.547442Z",
     "iopub.status.busy": "2022-03-03T14:57:31.547167Z",
     "iopub.status.idle": "2022-03-03T14:57:31.843354Z",
     "shell.execute_reply": "2022-03-03T14:57:31.842494Z",
     "shell.execute_reply.started": "2022-03-03T14:57:31.547413Z"
    }
   },
   "outputs": [],
   "source": [
    "# plot the data\n",
    "sns.kdeplot(fine_dining_rest.cost_for_two_people, fill = True)\n",
    "sns.kdeplot(casual_dining_rest.cost_for_two_people, fill = True)\n",
    "plt.legend([\"Fine Dining\", \"Casual Dining\"])\n",
    "plt.show()"
   ]
  },
  {
   "cell_type": "markdown",
   "metadata": {},
   "source": [
    "As expected, fine dining restaurants are much more expensive than casual dining restaurants. "
   ]
  },
  {
   "cell_type": "markdown",
   "metadata": {},
   "source": [
    "### Q8. How do Casual Dining and Fine Dining restaurants differ in their rating?"
   ]
  },
  {
   "cell_type": "code",
   "execution_count": 98,
   "metadata": {
    "execution": {
     "iopub.execute_input": "2022-03-03T15:11:21.199619Z",
     "iopub.status.busy": "2022-03-03T15:11:21.198736Z",
     "iopub.status.idle": "2022-03-03T15:11:21.500649Z",
     "shell.execute_reply": "2022-03-03T15:11:21.499972Z",
     "shell.execute_reply.started": "2022-03-03T15:11:21.199566Z"
    }
   },
   "outputs": [],
   "source": [
    "sns.kdeplot(fine_dining_rest.rating, fill = True)\n",
    "sns.kdeplot(casual_dining_rest.rating, fill = True)\n",
    "plt.legend([\"Fine Dining\", \"Casual Dining\"])\n",
    "plt.show()"
   ]
  },
  {
   "cell_type": "markdown",
   "metadata": {},
   "source": [
    "Fine dining restaurants are usually rated better and their ratings show much less variance than the ratings of casual dining restaurants."
   ]
  },
  {
   "cell_type": "markdown",
   "metadata": {},
   "source": [
    "### Q9. What are the five most common types of restaurants?"
   ]
  },
  {
   "cell_type": "code",
   "execution_count": 101,
   "metadata": {
    "execution": {
     "iopub.execute_input": "2022-03-03T15:16:18.933655Z",
     "iopub.status.busy": "2022-03-03T15:16:18.933327Z",
     "iopub.status.idle": "2022-03-03T15:16:18.949358Z",
     "shell.execute_reply": "2022-03-03T15:16:18.948623Z",
     "shell.execute_reply.started": "2022-03-03T15:16:18.933619Z"
    }
   },
   "outputs": [],
   "source": [
    "# Five most common types of restaurants\n",
    "most_common_types_of_restaurants = rest_type_exploded.rest_type.value_counts()\n",
    "most_common_types_of_restaurants.head()"
   ]
  },
  {
   "cell_type": "code",
   "execution_count": 104,
   "metadata": {
    "execution": {
     "iopub.execute_input": "2022-03-03T15:17:35.525069Z",
     "iopub.status.busy": "2022-03-03T15:17:35.524603Z",
     "iopub.status.idle": "2022-03-03T15:17:35.714482Z",
     "shell.execute_reply": "2022-03-03T15:17:35.713903Z",
     "shell.execute_reply.started": "2022-03-03T15:17:35.525019Z"
    }
   },
   "outputs": [],
   "source": [
    "sns.barplot(x = most_common_types_of_restaurants.head(), y = most_common_types_of_restaurants.index[:5])\n",
    "plt.show()"
   ]
  },
  {
   "cell_type": "markdown",
   "metadata": {},
   "source": [
    "### Q10. What are the top 5 rated restaurants in `type` and `no_of_cuisines` combined?\n",
    "In other words, which `type` and `no_of_cuisines` combinations gather the highest ratings?"
   ]
  },
  {
   "cell_type": "code",
   "execution_count": 146,
   "metadata": {
    "execution": {
     "iopub.execute_input": "2022-03-03T16:14:09.029688Z",
     "iopub.status.busy": "2022-03-03T16:14:09.029384Z",
     "iopub.status.idle": "2022-03-03T16:14:09.047081Z",
     "shell.execute_reply": "2022-03-03T16:14:09.046251Z",
     "shell.execute_reply.started": "2022-03-03T16:14:09.029655Z"
    }
   },
   "outputs": [],
   "source": [
    "# group and extract data for different `types` and `no of cuisines`\n",
    "rating_data = df.groupby(by = [\"type\", \"no_of_cuisines\"])[\"rating\"].agg(\"mean\")\n",
    "rating_data.head()"
   ]
  },
  {
   "cell_type": "markdown",
   "metadata": {},
   "source": [
    "Now, we'll make a 2D datarame out of this multiindexed pandas Series."
   ]
  },
  {
   "cell_type": "code",
   "execution_count": 147,
   "metadata": {
    "execution": {
     "iopub.execute_input": "2022-03-03T16:14:11.824008Z",
     "iopub.status.busy": "2022-03-03T16:14:11.823218Z",
     "iopub.status.idle": "2022-03-03T16:14:11.842682Z",
     "shell.execute_reply": "2022-03-03T16:14:11.841808Z",
     "shell.execute_reply.started": "2022-03-03T16:14:11.823948Z"
    }
   },
   "outputs": [],
   "source": [
    "rating_data_df = rating_data.unstack()\n",
    "rating_data_df.head()"
   ]
  },
  {
   "cell_type": "code",
   "execution_count": 148,
   "metadata": {
    "execution": {
     "iopub.execute_input": "2022-03-03T16:14:14.115537Z",
     "iopub.status.busy": "2022-03-03T16:14:14.115247Z",
     "iopub.status.idle": "2022-03-03T16:14:14.580399Z",
     "shell.execute_reply": "2022-03-03T16:14:14.579850Z",
     "shell.execute_reply.started": "2022-03-03T16:14:14.115501Z"
    }
   },
   "outputs": [],
   "source": [
    "# plot the data\n",
    "plt.figure(figsize = (9, 7))\n",
    "fig = sns.heatmap(data = rating_data_df, annot = True, cmap = \"rocket_r\")\n",
    "fig.set(xlabel = \"No. of cuisines\", ylabel = \"Type\")\n",
    "plt.show()"
   ]
  },
  {
   "cell_type": "markdown",
   "metadata": {},
   "source": [
    "From the plot, Pubs and bars which offer more than 3 cuisines are all rated high. Similarly, Drinks & nightlife restaurants with multiple cuisines are also rated really high.\n",
    "\n",
    "We can get the top 5 combinations from the `rating_data` Series."
   ]
  },
  {
   "cell_type": "code",
   "execution_count": 149,
   "metadata": {
    "execution": {
     "iopub.execute_input": "2022-03-03T16:14:18.647353Z",
     "iopub.status.busy": "2022-03-03T16:14:18.646773Z",
     "iopub.status.idle": "2022-03-03T16:14:18.657255Z",
     "shell.execute_reply": "2022-03-03T16:14:18.656346Z",
     "shell.execute_reply.started": "2022-03-03T16:14:18.647267Z"
    }
   },
   "outputs": [],
   "source": [
    "#top 5 combinations for `type` and `no_of_cuisines`\n",
    "rating_data.sort_values(ascending = False).head()"
   ]
  },
  {
   "cell_type": "markdown",
   "metadata": {},
   "source": [
    "### Q11. What is the relationship between the type and cost_for_two_people?"
   ]
  },
  {
   "cell_type": "code",
   "execution_count": 158,
   "metadata": {
    "execution": {
     "iopub.execute_input": "2022-03-03T16:18:35.229666Z",
     "iopub.status.busy": "2022-03-03T16:18:35.229333Z",
     "iopub.status.idle": "2022-03-03T16:18:35.538511Z",
     "shell.execute_reply": "2022-03-03T16:18:35.537662Z",
     "shell.execute_reply.started": "2022-03-03T16:18:35.229627Z"
    }
   },
   "outputs": [],
   "source": [
    "plt.figure(figsize = (8, 6))\n",
    "sns.boxplot(x = \"type\", y = \"cost_for_two_people\", data = df)\n",
    "plt.xticks(rotation = 45)\n",
    "plt.show()"
   ]
  },
  {
   "cell_type": "markdown",
   "metadata": {},
   "source": [
    "First thing to note is that there are quite a few outliers in the data, almost all of them offering much more expensive food from the rest of the distribution. \n",
    "Also buffet, drinks & nighlife, and pubs are much more expensive than eateries of the type desserts and delivery."
   ]
  },
  {
   "cell_type": "markdown",
   "metadata": {},
   "source": [
    "## Summary and Conclusion"
   ]
  },
  {
   "cell_type": "markdown",
   "metadata": {},
   "source": [
    "Many questions could be asked and explored from the Zomato Dataset, but here we tried to answer 11 of them. We studied all the restaurants in Bengaluru, who have registered on Zomato, and tried to explore multiple variables' relationship with the restaurants' ratings. We also studied what factors go along with the food cost for two people in these restaurants. \n",
    "\n",
    "\n",
    "There are two important things to note here before taking any conclusions. First, all the conclusions we made in our analysis might apply only to restaurants registered on Zomato and other similar online platforms, and might differ significantly if we explore the food industry offline. Second really important thing is all the relationships that we studied are correlational in nature. This project thus does not establish causal relationships, although it might suggest some and can be taken as an inspiration to conduct actual experimental studies to explore the variables discussed here. Keeping in mind this, we can look at what we did establish in the EDA of this Zomato Dataset.\n",
    "\n",
    "j\n",
    "jj]\n",
    "j\n",
    "k\n",
    "k\n",
    "\n",
    "Apart from thes inferences, many more interesting relationships can be studied and should be explored from this data. What we'll do is we'll try to predict the zomato rating of a restaurant from this dataset [here]().  \n",
    "\n",
    "[Note: This is Part 1 of a two-part project]"
   ]
  }
 ],
 "metadata": {
  "kernelspec": {
   "display_name": "Python 3 (ipykernel)",
   "language": "python",
   "name": "python3"
  },
  "language_info": {
   "codemirror_mode": {
    "name": "ipython",
    "version": 3
   },
   "file_extension": ".py",
   "mimetype": "text/x-python",
   "name": "python",
   "nbconvert_exporter": "python",
   "pygments_lexer": "ipython3",
   "version": "3.9.7"
  }
 },
 "nbformat": 4,
 "nbformat_minor": 4
}
